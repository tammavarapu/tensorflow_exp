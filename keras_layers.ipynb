{
  "nbformat": 4,
  "nbformat_minor": 0,
  "metadata": {
    "colab": {
      "name": "keras_layers.ipynb",
      "provenance": [],
      "authorship_tag": "ABX9TyOAWhbbvmi4pvSR9i+Zcvw2",
      "include_colab_link": true
    },
    "kernelspec": {
      "name": "python3",
      "display_name": "Python 3"
    }
  },
  "cells": [
    {
      "cell_type": "markdown",
      "metadata": {
        "id": "view-in-github",
        "colab_type": "text"
      },
      "source": [
        "<a href=\"https://colab.research.google.com/github/tammavarapu/tensorflow_exp/blob/main/keras_layers.ipynb\" target=\"_parent\"><img src=\"https://colab.research.google.com/assets/colab-badge.svg\" alt=\"Open In Colab\"/></a>"
      ]
    },
    {
      "cell_type": "code",
      "metadata": {
        "id": "sw9q4FMDn6JS"
      },
      "source": [
        "import tensorflow as tf"
      ],
      "execution_count": null,
      "outputs": []
    },
    {
      "cell_type": "code",
      "metadata": {
        "colab": {
          "base_uri": "https://localhost:8080/",
          "height": 35
        },
        "id": "87PhcYnBoGDa",
        "outputId": "63ed3b03-4736-40db-eb12-1951224cb1ff"
      },
      "source": [
        "tf.__version__"
      ],
      "execution_count": null,
      "outputs": [
        {
          "output_type": "execute_result",
          "data": {
            "application/vnd.google.colaboratory.intrinsic+json": {
              "type": "string"
            },
            "text/plain": [
              "'2.3.0'"
            ]
          },
          "metadata": {
            "tags": []
          },
          "execution_count": 3
        }
      ]
    },
    {
      "cell_type": "code",
      "metadata": {
        "id": "13t-W_QeoRE9"
      },
      "source": [
        "from tensorflow.keras.models import Sequential\n",
        "from tensorflow.keras.layers import Dense\n",
        "from tensorflow.keras.utils import plot_model"
      ],
      "execution_count": null,
      "outputs": []
    },
    {
      "cell_type": "code",
      "metadata": {
        "id": "rjxgvUfSolEg"
      },
      "source": [
        "# creare a model\n",
        "model = Sequential()"
      ],
      "execution_count": null,
      "outputs": []
    },
    {
      "cell_type": "code",
      "metadata": {
        "id": "tJ5SEPuZop4f"
      },
      "source": [
        "model.add(Dense(16,input_shape=(8,)))"
      ],
      "execution_count": null,
      "outputs": []
    },
    {
      "cell_type": "code",
      "metadata": {
        "colab": {
          "base_uri": "https://localhost:8080/"
        },
        "id": "B3fq3CGQpBjb",
        "outputId": "0a4de4e8-a4d1-4e6d-e8b6-e35f6d625407"
      },
      "source": [
        "model.summary()"
      ],
      "execution_count": null,
      "outputs": [
        {
          "output_type": "stream",
          "text": [
            "Model: \"sequential\"\n",
            "_________________________________________________________________\n",
            "Layer (type)                 Output Shape              Param #   \n",
            "=================================================================\n",
            "dense (Dense)                (None, 16)                144       \n",
            "_________________________________________________________________\n",
            "dense_1 (Dense)              (None, 16)                272       \n",
            "=================================================================\n",
            "Total params: 416\n",
            "Trainable params: 416\n",
            "Non-trainable params: 0\n",
            "_________________________________________________________________\n"
          ],
          "name": "stdout"
        }
      ]
    },
    {
      "cell_type": "code",
      "metadata": {
        "colab": {
          "base_uri": "https://localhost:8080/"
        },
        "id": "oTXaCh_QpFcG",
        "outputId": "0a1a7898-7b2b-4e99-8b93-86c4bf8cd445"
      },
      "source": [
        "model.get_config()"
      ],
      "execution_count": null,
      "outputs": [
        {
          "output_type": "execute_result",
          "data": {
            "text/plain": [
              "{'layers': [{'class_name': 'InputLayer',\n",
              "   'config': {'batch_input_shape': (None, 8),\n",
              "    'dtype': 'float32',\n",
              "    'name': 'dense_input',\n",
              "    'ragged': False,\n",
              "    'sparse': False}},\n",
              "  {'class_name': 'Dense',\n",
              "   'config': {'activation': 'linear',\n",
              "    'activity_regularizer': None,\n",
              "    'batch_input_shape': (None, 8),\n",
              "    'bias_constraint': None,\n",
              "    'bias_initializer': {'class_name': 'Zeros', 'config': {}},\n",
              "    'bias_regularizer': None,\n",
              "    'dtype': 'float32',\n",
              "    'kernel_constraint': None,\n",
              "    'kernel_initializer': {'class_name': 'GlorotUniform',\n",
              "     'config': {'seed': None}},\n",
              "    'kernel_regularizer': None,\n",
              "    'name': 'dense',\n",
              "    'trainable': True,\n",
              "    'units': 16,\n",
              "    'use_bias': True}},\n",
              "  {'class_name': 'Dense',\n",
              "   'config': {'activation': 'linear',\n",
              "    'activity_regularizer': None,\n",
              "    'batch_input_shape': (None, 8),\n",
              "    'bias_constraint': None,\n",
              "    'bias_initializer': {'class_name': 'Zeros', 'config': {}},\n",
              "    'bias_regularizer': None,\n",
              "    'dtype': 'float32',\n",
              "    'kernel_constraint': None,\n",
              "    'kernel_initializer': {'class_name': 'GlorotUniform',\n",
              "     'config': {'seed': None}},\n",
              "    'kernel_regularizer': None,\n",
              "    'name': 'dense_1',\n",
              "    'trainable': True,\n",
              "    'units': 16,\n",
              "    'use_bias': True}}],\n",
              " 'name': 'sequential'}"
            ]
          },
          "metadata": {
            "tags": []
          },
          "execution_count": 10
        }
      ]
    },
    {
      "cell_type": "code",
      "metadata": {
        "colab": {
          "base_uri": "https://localhost:8080/"
        },
        "id": "g2n6GDLdp60D",
        "outputId": "10fd63da-7ece-4b3b-e536-aa78dbf63014"
      },
      "source": [
        "model.get_weights()"
      ],
      "execution_count": null,
      "outputs": [
        {
          "output_type": "execute_result",
          "data": {
            "text/plain": [
              "[array([[ 0.12010443,  0.31907034,  0.21265125, -0.2921157 , -0.21602738,\n",
              "         -0.24374378,  0.28767967, -0.4150313 , -0.18194497, -0.39360106,\n",
              "          0.36922097, -0.39293993, -0.38154805,  0.30350173,  0.04163277,\n",
              "          0.0710535 ],\n",
              "        [ 0.3682176 , -0.10348189,  0.4507351 , -0.49629784, -0.37508285,\n",
              "          0.15144503, -0.3126322 , -0.17957151,  0.1561395 , -0.27911317,\n",
              "         -0.10809696, -0.38967204,  0.30548954, -0.08972359,  0.02686441,\n",
              "         -0.04097986],\n",
              "        [ 0.01043463, -0.45740342,  0.3587991 , -0.33938503,  0.2622528 ,\n",
              "         -0.40823174, -0.33256137,  0.4672426 ,  0.28886974, -0.20642626,\n",
              "         -0.12763059,  0.25753033, -0.09467697, -0.28414202,  0.48021817,\n",
              "          0.06483531],\n",
              "        [-0.31503534, -0.01109612, -0.4409362 , -0.09786785, -0.48584557,\n",
              "         -0.3485278 , -0.09212697,  0.09569943,  0.38824272,  0.21308303,\n",
              "          0.22980547, -0.26675487, -0.22625911, -0.49567246,  0.3759234 ,\n",
              "         -0.48599565],\n",
              "        [-0.16031909, -0.3210107 ,  0.3893479 ,  0.4082173 , -0.27541792,\n",
              "          0.44411266,  0.17046523, -0.35829282, -0.08449996, -0.26337397,\n",
              "          0.2941048 ,  0.3838905 , -0.28010917, -0.11180341, -0.29431665,\n",
              "          0.11090422],\n",
              "        [ 0.4045217 , -0.43244696, -0.28474307,  0.48010826,  0.33867133,\n",
              "          0.46188748, -0.23387086,  0.16747975, -0.12906468,  0.00740063,\n",
              "          0.26881146, -0.4533137 ,  0.10302794, -0.18670726, -0.05553424,\n",
              "          0.10515678],\n",
              "        [ 0.25636435,  0.21986687, -0.37227976, -0.14393187,  0.17709577,\n",
              "          0.0050602 , -0.00889421, -0.2542454 ,  0.26469982, -0.19401467,\n",
              "         -0.09589648,  0.24146521,  0.27618468, -0.41689456,  0.45432687,\n",
              "         -0.47289777],\n",
              "        [ 0.24563575,  0.2886678 , -0.3069713 , -0.31359518,  0.09520793,\n",
              "          0.06790888,  0.25657856, -0.2921846 ,  0.37548864, -0.14920032,\n",
              "          0.07709646,  0.1268282 ,  0.4037944 , -0.38411188,  0.4339429 ,\n",
              "          0.3691548 ]], dtype=float32),\n",
              " array([0., 0., 0., 0., 0., 0., 0., 0., 0., 0., 0., 0., 0., 0., 0., 0.],\n",
              "       dtype=float32),\n",
              " array([[ 2.94931620e-01,  1.18826300e-01,  3.99194926e-01,\n",
              "         -6.98333681e-02,  1.21198595e-02,  2.20129281e-01,\n",
              "          3.45850259e-01,  4.05750066e-01,  1.97205842e-02,\n",
              "         -3.11768025e-01,  3.53319854e-01, -6.15999997e-02,\n",
              "          3.39490175e-03,  3.90523762e-01,  4.14556175e-01,\n",
              "          1.54685646e-01],\n",
              "        [ 1.76302761e-01,  2.11329758e-02, -2.41344333e-01,\n",
              "         -2.29951277e-01, -2.07622692e-01, -2.08680779e-01,\n",
              "          2.45492667e-01,  1.52437896e-01,  2.45159000e-01,\n",
              "          3.67414147e-01, -4.32175219e-01, -2.53496945e-01,\n",
              "         -2.44847521e-01,  2.05174178e-01, -7.18207955e-02,\n",
              "         -3.51111919e-01],\n",
              "        [ 1.71690285e-02, -2.48926371e-01,  2.94479340e-01,\n",
              "          4.42343950e-03, -1.47996396e-01,  3.32475871e-01,\n",
              "         -3.94555002e-01,  3.72435659e-01, -3.00309181e-01,\n",
              "          1.39146417e-01, -2.60124415e-01, -1.69993371e-01,\n",
              "          4.30949628e-02,  2.31476516e-01, -8.80649388e-02,\n",
              "         -1.65707648e-01],\n",
              "        [ 1.19051903e-01,  6.46197200e-02,  1.54446393e-01,\n",
              "         -1.02893442e-01,  1.98978335e-01,  1.56070739e-01,\n",
              "         -2.59982765e-01, -2.85353273e-01, -2.06542611e-02,\n",
              "          4.35227752e-02,  1.28548354e-01,  3.13435704e-01,\n",
              "          2.13826507e-01, -2.07470655e-02, -1.23287857e-01,\n",
              "          1.62246794e-01],\n",
              "        [ 3.47163349e-01,  3.30656081e-01,  1.12110466e-01,\n",
              "          1.04759783e-01,  1.45739943e-01, -2.56850123e-01,\n",
              "         -1.10611349e-01, -2.17282474e-02, -3.39884132e-01,\n",
              "          3.90103847e-01,  1.86970681e-01,  3.78849655e-01,\n",
              "          3.92169982e-01,  7.61630833e-02, -3.14511269e-01,\n",
              "         -2.12734938e-02],\n",
              "        [ 3.30159277e-01,  3.88560802e-01, -8.72099102e-02,\n",
              "          3.21139067e-01,  5.69141209e-02,  4.25608665e-01,\n",
              "         -7.67359734e-02,  1.25409633e-01, -2.16331661e-01,\n",
              "         -1.58071518e-04,  1.03934377e-01,  3.80507439e-01,\n",
              "          4.32215184e-01,  1.92209452e-01,  1.04908675e-01,\n",
              "          3.52773517e-01],\n",
              "        [-3.39737415e-01,  3.85753304e-01, -3.54030371e-01,\n",
              "         -3.87507737e-01,  3.03175598e-01, -3.69994104e-01,\n",
              "         -4.24621373e-01, -1.14348561e-01,  1.98732406e-01,\n",
              "          2.40772516e-01, -2.73518562e-01, -3.17527980e-01,\n",
              "         -2.85638392e-01, -2.99922466e-01,  4.21125323e-01,\n",
              "         -3.52339327e-01],\n",
              "        [-3.45925421e-01,  4.95426059e-02,  2.13293761e-01,\n",
              "          9.98145044e-02, -1.03168488e-01, -1.41179264e-02,\n",
              "          1.66131467e-01,  2.37206668e-01,  6.84679449e-02,\n",
              "          1.82325691e-01,  3.36672366e-02, -3.35489482e-01,\n",
              "          1.20730013e-01,  3.88752669e-01,  9.68413055e-02,\n",
              "         -3.15862656e-01],\n",
              "        [-7.04478323e-02,  3.51345330e-01, -6.92776144e-02,\n",
              "          3.98243159e-01,  3.46776813e-01,  4.31068808e-01,\n",
              "          7.54081309e-02,  2.07963586e-03,  7.80945122e-02,\n",
              "         -2.88573056e-01, -2.73010433e-02,  4.12283152e-01,\n",
              "         -4.17871445e-01, -1.31624967e-01,  1.02898508e-01,\n",
              "          3.81864756e-01],\n",
              "        [-2.52088040e-01,  2.50975937e-01,  9.38808620e-02,\n",
              "         -1.32047027e-01,  3.84177357e-01, -8.54627192e-02,\n",
              "         -1.26609147e-01,  2.51435637e-02,  2.38847643e-01,\n",
              "         -1.88524857e-01, -2.05338448e-01, -2.80086875e-01,\n",
              "         -3.29485565e-01, -8.30021203e-02,  2.82465070e-01,\n",
              "          2.72289366e-01],\n",
              "        [ 2.28516757e-02,  3.81138653e-01, -1.49452686e-01,\n",
              "         -2.50496805e-01,  3.93572778e-01, -1.93532214e-01,\n",
              "         -2.73739994e-01,  3.16504091e-01,  1.76657110e-01,\n",
              "         -8.71548951e-02, -1.21322721e-01,  2.29053289e-01,\n",
              "          1.05566591e-01,  1.80831343e-01, -3.30853164e-01,\n",
              "         -2.21182212e-01],\n",
              "        [-4.11497116e-01, -3.36756736e-01, -1.43689513e-01,\n",
              "         -3.48062664e-01, -1.36472732e-01, -3.29468518e-01,\n",
              "         -1.39332861e-01,  2.57466048e-01,  2.58797497e-01,\n",
              "          3.42430621e-01, -2.18951955e-01, -3.06225985e-01,\n",
              "         -4.59637344e-02,  1.78673118e-01,  2.19075650e-01,\n",
              "         -4.06287909e-01],\n",
              "        [ 9.71128643e-02,  3.71927321e-02, -7.85936415e-02,\n",
              "          2.11741000e-01,  3.40126425e-01,  3.22503358e-01,\n",
              "          3.37571889e-01, -3.95435929e-01,  4.19664413e-01,\n",
              "          2.62197107e-01, -4.11388934e-01,  2.45832115e-01,\n",
              "         -3.58441204e-01,  3.88400465e-01, -3.86935800e-01,\n",
              "         -3.79128307e-01],\n",
              "        [ 3.37382555e-02, -2.03149378e-01, -2.14000553e-01,\n",
              "         -3.25977027e-01, -1.53490633e-01, -2.47471943e-01,\n",
              "          3.67639929e-01,  1.35122985e-01, -2.81809717e-01,\n",
              "          1.11887366e-01,  2.91422009e-03,  2.02279299e-01,\n",
              "          1.76920742e-01,  3.10685337e-02,  3.16587716e-01,\n",
              "          1.64731711e-01],\n",
              "        [ 4.05035645e-01,  2.02637821e-01, -1.83911234e-01,\n",
              "          1.45935565e-01, -4.28926051e-02, -2.17003137e-01,\n",
              "          7.69666135e-02,  1.33871347e-01,  3.45750839e-01,\n",
              "          3.11591357e-01, -1.62737161e-01,  1.41794950e-01,\n",
              "          2.55850345e-01, -1.19745344e-01,  3.94034654e-01,\n",
              "         -3.13216865e-01],\n",
              "        [ 3.72645766e-01, -4.30120885e-01,  3.59559208e-01,\n",
              "         -1.19987428e-01, -1.72043681e-01,  2.42024392e-01,\n",
              "         -2.42934927e-01, -3.47093046e-01,  6.13790751e-02,\n",
              "          1.24390721e-02,  1.83937550e-02,  3.41618925e-01,\n",
              "         -4.26398844e-01, -3.93062592e-01,  2.63545841e-01,\n",
              "         -3.04781467e-01]], dtype=float32),\n",
              " array([0., 0., 0., 0., 0., 0., 0., 0., 0., 0., 0., 0., 0., 0., 0., 0.],\n",
              "       dtype=float32)]"
            ]
          },
          "metadata": {
            "tags": []
          },
          "execution_count": 11
        }
      ]
    },
    {
      "cell_type": "code",
      "metadata": {
        "id": "jrEJk0E2qSwW"
      },
      "source": [
        "from tensorflow.keras.layers import Dense,Dropout"
      ],
      "execution_count": null,
      "outputs": []
    },
    {
      "cell_type": "code",
      "metadata": {
        "colab": {
          "base_uri": "https://localhost:8080/"
        },
        "id": "BLT8pndgrTFa",
        "outputId": "4d14836c-1d79-4690-f9e6-33322983e987"
      },
      "source": [
        "model = Sequential()\n",
        "model.add(Dense(16,input_shape=(8,)))\n",
        "model.add(Dropout(.2))\n",
        "model.add(Dense(10))\n",
        "model.summary()"
      ],
      "execution_count": null,
      "outputs": [
        {
          "output_type": "stream",
          "text": [
            "Model: \"sequential_1\"\n",
            "_________________________________________________________________\n",
            "Layer (type)                 Output Shape              Param #   \n",
            "=================================================================\n",
            "dense_2 (Dense)              (None, 16)                144       \n",
            "_________________________________________________________________\n",
            "dropout (Dropout)            (None, 16)                0         \n",
            "_________________________________________________________________\n",
            "dense_3 (Dense)              (None, 10)                170       \n",
            "=================================================================\n",
            "Total params: 314\n",
            "Trainable params: 314\n",
            "Non-trainable params: 0\n",
            "_________________________________________________________________\n"
          ],
          "name": "stdout"
        }
      ]
    },
    {
      "cell_type": "code",
      "metadata": {
        "id": "xy3tlGL1rjzE"
      },
      "source": [
        "from tensorflow.keras.layers import Dense,Flatten"
      ],
      "execution_count": null,
      "outputs": []
    },
    {
      "cell_type": "code",
      "metadata": {
        "colab": {
          "base_uri": "https://localhost:8080/"
        },
        "id": "FdAlvpuit863",
        "outputId": "e15ec255-49e5-4791-9b6c-d4945bb47192"
      },
      "source": [
        "model = Sequential()\n",
        "model.add(Dense(16,input_shape=(8,2)))\n",
        "model.add(Flatten())\n",
        "model.add(Dense(10))\n",
        "model.summary()"
      ],
      "execution_count": null,
      "outputs": [
        {
          "output_type": "stream",
          "text": [
            "Model: \"sequential_2\"\n",
            "_________________________________________________________________\n",
            "Layer (type)                 Output Shape              Param #   \n",
            "=================================================================\n",
            "dense_4 (Dense)              (None, 8, 16)             48        \n",
            "_________________________________________________________________\n",
            "flatten (Flatten)            (None, 128)               0         \n",
            "_________________________________________________________________\n",
            "dense_5 (Dense)              (None, 10)                1290      \n",
            "=================================================================\n",
            "Total params: 1,338\n",
            "Trainable params: 1,338\n",
            "Non-trainable params: 0\n",
            "_________________________________________________________________\n"
          ],
          "name": "stdout"
        }
      ]
    },
    {
      "cell_type": "code",
      "metadata": {
        "id": "iQ_eDsufuQKR"
      },
      "source": [
        "from tensorflow.keras.layers import Dense,Permute"
      ],
      "execution_count": null,
      "outputs": []
    },
    {
      "cell_type": "code",
      "metadata": {
        "colab": {
          "base_uri": "https://localhost:8080/"
        },
        "id": "8qm8kVzwwJVr",
        "outputId": "23f68451-14f1-4cb0-fc77-7d4555392cf7"
      },
      "source": [
        "model = Sequential()\n",
        "model.add(Dense(16,input_shape=(8,2)))\n",
        "model.add(Permute((2,1)))\n",
        "model.add(Dense(10))\n",
        "model.summary()"
      ],
      "execution_count": null,
      "outputs": [
        {
          "output_type": "stream",
          "text": [
            "Model: \"sequential_3\"\n",
            "_________________________________________________________________\n",
            "Layer (type)                 Output Shape              Param #   \n",
            "=================================================================\n",
            "dense_6 (Dense)              (None, 8, 16)             48        \n",
            "_________________________________________________________________\n",
            "permute (Permute)            (None, 16, 8)             0         \n",
            "_________________________________________________________________\n",
            "dense_7 (Dense)              (None, 16, 10)            90        \n",
            "=================================================================\n",
            "Total params: 138\n",
            "Trainable params: 138\n",
            "Non-trainable params: 0\n",
            "_________________________________________________________________\n"
          ],
          "name": "stdout"
        }
      ]
    },
    {
      "cell_type": "code",
      "metadata": {
        "id": "7mfWQ7drwhna"
      },
      "source": [
        "from tensorflow.keras.layers import Dense,Activation,Conv2D,MaxPooling2D,Flatten"
      ],
      "execution_count": null,
      "outputs": []
    },
    {
      "cell_type": "code",
      "metadata": {
        "id": "2h-TExUC5Vyr"
      },
      "source": [
        "model = Sequential()\n",
        "model.add(Conv2D(32,kernel_size=(5,5),strides=(1,1),input_shape=(28,28,1)))\n",
        "model.add(MaxPooling2D(pool_size=(2,2),strides=(2,2)))\n",
        "model.add(Flatten())\n",
        "model.add(Dense(1000,activation='relu'))"
      ],
      "execution_count": null,
      "outputs": []
    },
    {
      "cell_type": "code",
      "metadata": {
        "id": "wyeFggOw56_e",
        "colab": {
          "base_uri": "https://localhost:8080/"
        },
        "outputId": "41452623-72d6-4ad1-f649-b4fc259aabbe"
      },
      "source": [
        "model.summary()"
      ],
      "execution_count": null,
      "outputs": [
        {
          "output_type": "stream",
          "text": [
            "Model: \"sequential_4\"\n",
            "_________________________________________________________________\n",
            "Layer (type)                 Output Shape              Param #   \n",
            "=================================================================\n",
            "conv2d (Conv2D)              (None, 24, 24, 32)        832       \n",
            "_________________________________________________________________\n",
            "max_pooling2d (MaxPooling2D) (None, 12, 12, 32)        0         \n",
            "_________________________________________________________________\n",
            "flatten_1 (Flatten)          (None, 4608)              0         \n",
            "_________________________________________________________________\n",
            "dense_8 (Dense)              (None, 1000)              4609000   \n",
            "=================================================================\n",
            "Total params: 4,609,832\n",
            "Trainable params: 4,609,832\n",
            "Non-trainable params: 0\n",
            "_________________________________________________________________\n"
          ],
          "name": "stdout"
        }
      ]
    },
    {
      "cell_type": "code",
      "metadata": {
        "id": "nvihovp15-eW"
      },
      "source": [
        ""
      ],
      "execution_count": null,
      "outputs": []
    }
  ]
}