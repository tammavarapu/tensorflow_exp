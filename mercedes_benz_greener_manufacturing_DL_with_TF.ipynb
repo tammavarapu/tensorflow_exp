{
  "nbformat": 4,
  "nbformat_minor": 0,
  "metadata": {
    "colab": {
      "name": "mercedes_benz_greener_manufacturing_DL_with_TF.ipynb",
      "provenance": [],
      "authorship_tag": "ABX9TyMX2HI4iNe10BRLYWaG68Wk",
      "include_colab_link": true
    },
    "kernelspec": {
      "name": "python3",
      "display_name": "Python 3"
    }
  },
  "cells": [
    {
      "cell_type": "markdown",
      "metadata": {
        "id": "view-in-github",
        "colab_type": "text"
      },
      "source": [
        "<a href=\"https://colab.research.google.com/github/tammavarapu/tensorflow_exp/blob/main/mercedes_benz_greener_manufacturing_DL_with_TF.ipynb\" target=\"_parent\"><img src=\"https://colab.research.google.com/assets/colab-badge.svg\" alt=\"Open In Colab\"/></a>"
      ]
    },
    {
      "cell_type": "code",
      "metadata": {
        "id": "mFMbSpxdFCFF"
      },
      "source": [
        "#https://www.kaggle.com/umbertogriffo/deep-learning"
      ],
      "execution_count": null,
      "outputs": []
    }
  ]
}