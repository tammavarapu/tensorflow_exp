{
  "nbformat": 4,
  "nbformat_minor": 0,
  "metadata": {
    "colab": {
      "name": "tensorflow_exp.ipynb",
      "provenance": [],
      "authorship_tag": "ABX9TyNwZXwWJ+fGhFze2L42fLue",
      "include_colab_link": true
    },
    "kernelspec": {
      "name": "python3",
      "display_name": "Python 3"
    }
  },
  "cells": [
    {
      "cell_type": "markdown",
      "metadata": {
        "id": "view-in-github",
        "colab_type": "text"
      },
      "source": [
        "<a href=\"https://colab.research.google.com/github/tammavarapu/tensorflow_exp/blob/main/tensorflow_exp.ipynb\" target=\"_parent\"><img src=\"https://colab.research.google.com/assets/colab-badge.svg\" alt=\"Open In Colab\"/></a>"
      ]
    },
    {
      "cell_type": "code",
      "metadata": {
        "colab": {
          "base_uri": "https://localhost:8080/"
        },
        "id": "7_oUHrd9Sv0f",
        "outputId": "c46291a4-0ee8-42e1-bf6a-a29d12241f9f"
      },
      "source": [
        "!pip install tensorflow"
      ],
      "execution_count": 2,
      "outputs": [
        {
          "output_type": "stream",
          "text": [
            "Requirement already satisfied: tensorflow in /usr/local/lib/python3.6/dist-packages (2.3.0)\n",
            "Requirement already satisfied: termcolor>=1.1.0 in /usr/local/lib/python3.6/dist-packages (from tensorflow) (1.1.0)\n",
            "Requirement already satisfied: protobuf>=3.9.2 in /usr/local/lib/python3.6/dist-packages (from tensorflow) (3.12.4)\n",
            "Requirement already satisfied: google-pasta>=0.1.8 in /usr/local/lib/python3.6/dist-packages (from tensorflow) (0.2.0)\n",
            "Requirement already satisfied: wheel>=0.26 in /usr/local/lib/python3.6/dist-packages (from tensorflow) (0.35.1)\n",
            "Requirement already satisfied: scipy==1.4.1 in /usr/local/lib/python3.6/dist-packages (from tensorflow) (1.4.1)\n",
            "Requirement already satisfied: grpcio>=1.8.6 in /usr/local/lib/python3.6/dist-packages (from tensorflow) (1.33.2)\n",
            "Requirement already satisfied: six>=1.12.0 in /usr/local/lib/python3.6/dist-packages (from tensorflow) (1.15.0)\n",
            "Requirement already satisfied: tensorboard<3,>=2.3.0 in /usr/local/lib/python3.6/dist-packages (from tensorflow) (2.3.0)\n",
            "Requirement already satisfied: keras-preprocessing<1.2,>=1.1.1 in /usr/local/lib/python3.6/dist-packages (from tensorflow) (1.1.2)\n",
            "Requirement already satisfied: opt-einsum>=2.3.2 in /usr/local/lib/python3.6/dist-packages (from tensorflow) (3.3.0)\n",
            "Requirement already satisfied: tensorflow-estimator<2.4.0,>=2.3.0 in /usr/local/lib/python3.6/dist-packages (from tensorflow) (2.3.0)\n",
            "Requirement already satisfied: numpy<1.19.0,>=1.16.0 in /usr/local/lib/python3.6/dist-packages (from tensorflow) (1.18.5)\n",
            "Requirement already satisfied: wrapt>=1.11.1 in /usr/local/lib/python3.6/dist-packages (from tensorflow) (1.12.1)\n",
            "Requirement already satisfied: gast==0.3.3 in /usr/local/lib/python3.6/dist-packages (from tensorflow) (0.3.3)\n",
            "Requirement already satisfied: absl-py>=0.7.0 in /usr/local/lib/python3.6/dist-packages (from tensorflow) (0.10.0)\n",
            "Requirement already satisfied: h5py<2.11.0,>=2.10.0 in /usr/local/lib/python3.6/dist-packages (from tensorflow) (2.10.0)\n",
            "Requirement already satisfied: astunparse==1.6.3 in /usr/local/lib/python3.6/dist-packages (from tensorflow) (1.6.3)\n",
            "Requirement already satisfied: setuptools in /usr/local/lib/python3.6/dist-packages (from protobuf>=3.9.2->tensorflow) (50.3.2)\n",
            "Requirement already satisfied: markdown>=2.6.8 in /usr/local/lib/python3.6/dist-packages (from tensorboard<3,>=2.3.0->tensorflow) (3.3.3)\n",
            "Requirement already satisfied: tensorboard-plugin-wit>=1.6.0 in /usr/local/lib/python3.6/dist-packages (from tensorboard<3,>=2.3.0->tensorflow) (1.7.0)\n",
            "Requirement already satisfied: google-auth<2,>=1.6.3 in /usr/local/lib/python3.6/dist-packages (from tensorboard<3,>=2.3.0->tensorflow) (1.17.2)\n",
            "Requirement already satisfied: requests<3,>=2.21.0 in /usr/local/lib/python3.6/dist-packages (from tensorboard<3,>=2.3.0->tensorflow) (2.23.0)\n",
            "Requirement already satisfied: werkzeug>=0.11.15 in /usr/local/lib/python3.6/dist-packages (from tensorboard<3,>=2.3.0->tensorflow) (1.0.1)\n",
            "Requirement already satisfied: google-auth-oauthlib<0.5,>=0.4.1 in /usr/local/lib/python3.6/dist-packages (from tensorboard<3,>=2.3.0->tensorflow) (0.4.2)\n",
            "Requirement already satisfied: importlib-metadata; python_version < \"3.8\" in /usr/local/lib/python3.6/dist-packages (from markdown>=2.6.8->tensorboard<3,>=2.3.0->tensorflow) (2.0.0)\n",
            "Requirement already satisfied: cachetools<5.0,>=2.0.0 in /usr/local/lib/python3.6/dist-packages (from google-auth<2,>=1.6.3->tensorboard<3,>=2.3.0->tensorflow) (4.1.1)\n",
            "Requirement already satisfied: rsa<5,>=3.1.4; python_version >= \"3\" in /usr/local/lib/python3.6/dist-packages (from google-auth<2,>=1.6.3->tensorboard<3,>=2.3.0->tensorflow) (4.6)\n",
            "Requirement already satisfied: pyasn1-modules>=0.2.1 in /usr/local/lib/python3.6/dist-packages (from google-auth<2,>=1.6.3->tensorboard<3,>=2.3.0->tensorflow) (0.2.8)\n",
            "Requirement already satisfied: chardet<4,>=3.0.2 in /usr/local/lib/python3.6/dist-packages (from requests<3,>=2.21.0->tensorboard<3,>=2.3.0->tensorflow) (3.0.4)\n",
            "Requirement already satisfied: certifi>=2017.4.17 in /usr/local/lib/python3.6/dist-packages (from requests<3,>=2.21.0->tensorboard<3,>=2.3.0->tensorflow) (2020.6.20)\n",
            "Requirement already satisfied: idna<3,>=2.5 in /usr/local/lib/python3.6/dist-packages (from requests<3,>=2.21.0->tensorboard<3,>=2.3.0->tensorflow) (2.10)\n",
            "Requirement already satisfied: urllib3!=1.25.0,!=1.25.1,<1.26,>=1.21.1 in /usr/local/lib/python3.6/dist-packages (from requests<3,>=2.21.0->tensorboard<3,>=2.3.0->tensorflow) (1.24.3)\n",
            "Requirement already satisfied: requests-oauthlib>=0.7.0 in /usr/local/lib/python3.6/dist-packages (from google-auth-oauthlib<0.5,>=0.4.1->tensorboard<3,>=2.3.0->tensorflow) (1.3.0)\n",
            "Requirement already satisfied: zipp>=0.5 in /usr/local/lib/python3.6/dist-packages (from importlib-metadata; python_version < \"3.8\"->markdown>=2.6.8->tensorboard<3,>=2.3.0->tensorflow) (3.4.0)\n",
            "Requirement already satisfied: pyasn1>=0.1.3 in /usr/local/lib/python3.6/dist-packages (from rsa<5,>=3.1.4; python_version >= \"3\"->google-auth<2,>=1.6.3->tensorboard<3,>=2.3.0->tensorflow) (0.4.8)\n",
            "Requirement already satisfied: oauthlib>=3.0.0 in /usr/local/lib/python3.6/dist-packages (from requests-oauthlib>=0.7.0->google-auth-oauthlib<0.5,>=0.4.1->tensorboard<3,>=2.3.0->tensorflow) (3.1.0)\n"
          ],
          "name": "stdout"
        }
      ]
    },
    {
      "cell_type": "code",
      "metadata": {
        "id": "wdzuki2cS0e5"
      },
      "source": [
        "import tensorflow as tf"
      ],
      "execution_count": 4,
      "outputs": []
    },
    {
      "cell_type": "code",
      "metadata": {
        "colab": {
          "base_uri": "https://localhost:8080/"
        },
        "id": "v61niw_niiuC",
        "outputId": "47f3c373-5133-44d9-c55c-6edaceeea56c"
      },
      "source": [
        "print(f\"Tenserflow version :{tf.__version__}\")\n",
        "print(f\"Keras version :{tf.keras.__version__}\")"
      ],
      "execution_count": 7,
      "outputs": [
        {
          "output_type": "stream",
          "text": [
            "Tenserflow version :2.3.0\n",
            "Keras version :2.4.0\n"
          ],
          "name": "stdout"
        }
      ]
    },
    {
      "cell_type": "code",
      "metadata": {
        "colab": {
          "base_uri": "https://localhost:8080/"
        },
        "id": "19UnJ4KAnby_",
        "outputId": "19802210-18ce-4ba2-997c-ebd437293322"
      },
      "source": [
        "tf.config.list_physical_devices('GPU')"
      ],
      "execution_count": 9,
      "outputs": [
        {
          "output_type": "execute_result",
          "data": {
            "text/plain": [
              "[]"
            ]
          },
          "metadata": {
            "tags": []
          },
          "execution_count": 9
        }
      ]
    },
    {
      "cell_type": "code",
      "metadata": {
        "colab": {
          "base_uri": "https://localhost:8080/"
        },
        "id": "ECxZR10BoDBZ",
        "outputId": "8cea170c-29c5-4d53-9a04-af1258d5da0d"
      },
      "source": [
        "tf.config.list_physical_devices('CPU')"
      ],
      "execution_count": 10,
      "outputs": [
        {
          "output_type": "execute_result",
          "data": {
            "text/plain": [
              "[PhysicalDevice(name='/physical_device:CPU:0', device_type='CPU')]"
            ]
          },
          "metadata": {
            "tags": []
          },
          "execution_count": 10
        }
      ]
    },
    {
      "cell_type": "code",
      "metadata": {
        "id": "QRExC858oKD3"
      },
      "source": [
        "import numpy as np\n",
        "import pandas as pd\n",
        "import matplotlib.pyplot as plt\n",
        "import seaborn as sns\n",
        "import os"
      ],
      "execution_count": 11,
      "outputs": []
    },
    {
      "cell_type": "code",
      "metadata": {
        "colab": {
          "base_uri": "https://localhost:8080/"
        },
        "id": "SBExBXo6oiR1",
        "outputId": "2aaf903f-ee44-4603-b783-7d20dde43ae2"
      },
      "source": [
        "mnist = tf.keras.datasets.mnist\n",
        "(X_train_full,y_train_full),(X_test,y_test)=mnist.load_data()"
      ],
      "execution_count": 13,
      "outputs": [
        {
          "output_type": "stream",
          "text": [
            "Downloading data from https://storage.googleapis.com/tensorflow/tf-keras-datasets/mnist.npz\n",
            "11493376/11490434 [==============================] - 0s 0us/step\n"
          ],
          "name": "stdout"
        }
      ]
    },
    {
      "cell_type": "code",
      "metadata": {
        "colab": {
          "base_uri": "https://localhost:8080/"
        },
        "id": "h2zATN5qpIL1",
        "outputId": "97042359-b054-455e-acc1-dceb118d7dc0"
      },
      "source": [
        "X_train_full[5000]"
      ],
      "execution_count": 21,
      "outputs": [
        {
          "output_type": "execute_result",
          "data": {
            "text/plain": [
              "array([[  0,   0,   0,   0,   0,   0,   0,   0,   0,   0,   0,   0,   0,\n",
              "          0,   0,   0,   0,   0,   0,   0,   0,   0,   0,   0,   0,   0,\n",
              "          0,   0],\n",
              "       [  0,   0,   0,   0,   0,   0,   0,   0,   0,   0,   0,   0,   0,\n",
              "          0,   0,   0,   0,   0,   0,   0,   0,   0,   0,   0,   0,   0,\n",
              "          0,   0],\n",
              "       [  0,   0,   0,   0,   0,   0,   0,   0,   0,   0,   0,   0,   0,\n",
              "          0,   0,   0,   0,   0,   0,   0,   0,   0,   0,   0,   0,   0,\n",
              "          0,   0],\n",
              "       [  0,   0,   0,   0,   0,   0,   0,   0,   0,   0,   0,   0,   0,\n",
              "          0,   0,   0,   0,   0,   0,   0,   0,   0,   0,   0,   0,   0,\n",
              "          0,   0],\n",
              "       [  0,   0,   0,   0,   0,   0,   0,   0,   0,   0,   0,   0,   0,\n",
              "          0,   0,   0,   0,   0,   0,   0,   0,   0,   0,   0,   0,   0,\n",
              "          0,   0],\n",
              "       [  0,   0,   0,   0,   0,   0,   0,   0,   0,   0,   0,   0,   0,\n",
              "          0,   0,   0,   0,   0,   0,   0,   0,   0,   0,   0,   0,   0,\n",
              "          0,   0],\n",
              "       [  0,   0,   0,   0,   0,   0,   0,   0,   0,   0,   0,   0,   0,\n",
              "          0,   0,   0,   0,   0,   0,   0,   0,   0,   0,   0,   0,   0,\n",
              "          0,   0],\n",
              "       [  0,   0,   0,   0,   0,   0,   0,   0,   0,   0,   0,  97,  96,\n",
              "         77, 118,  61,   0,   0,   0,   0,   0,   0,   0,   0,   0,   0,\n",
              "          0,   0],\n",
              "       [  0,   0,   0,  90, 138, 235, 235, 235, 235, 235, 235, 251, 251,\n",
              "        248, 254, 245, 235, 190,  21,   0,   0,   0,   0,   0,   0,   0,\n",
              "          0,   0],\n",
              "       [  0,   0, 140, 251, 254, 254, 254, 254, 254, 254, 254, 254, 254,\n",
              "        254, 254, 254, 254, 254, 189,  23,   0,   0,   0,   0,   0,   0,\n",
              "          0,   0],\n",
              "       [  0,   0, 226, 254, 208, 199, 199, 199, 199, 139,  61,  61,  61,\n",
              "         61,  61, 128, 222, 254, 254, 189,  21,   0,   0,   0,   0,   0,\n",
              "          0,   0],\n",
              "       [  0,   0,  38,  82,  13,   0,   0,   0,   0,   0,   0,   0,   0,\n",
              "          0,   0,   0,  34, 213, 254, 254, 115,   0,   0,   0,   0,   0,\n",
              "          0,   0],\n",
              "       [  0,   0,   0,   0,   0,   0,   0,   0,   0,   0,   0,   0,   0,\n",
              "          0,   0,   0,   0,  84, 254, 254, 234,   0,   0,   0,   0,   0,\n",
              "          0,   0],\n",
              "       [  0,   0,   0,   0,   0,   0,   0,   0,   0,   0,   0,   0,   0,\n",
              "          0,   0,   0,   0,  84, 254, 254, 234,   0,   0,   0,   0,   0,\n",
              "          0,   0],\n",
              "       [  0,   0,   0,   0,   0,   0,   0,   0,   0,   0,   0,   0,   0,\n",
              "          0,   0,   0, 106, 157, 254, 254, 243,  51,   0,   0,   0,   0,\n",
              "          0,   0],\n",
              "       [  0,   0,   0,   0,   0,   0,   0,   0,   0,   0,   0,  25, 117,\n",
              "        228, 228, 228, 253, 254, 254, 254, 254, 240,   0,   0,   0,   0,\n",
              "          0,   0],\n",
              "       [  0,   0,   0,   0,   0,   0,   0,   0,   0,  68, 119, 220, 254,\n",
              "        254, 254, 254, 254, 254, 254, 254, 254, 142,   0,   0,   0,   0,\n",
              "          0,   0],\n",
              "       [  0,   0,   0,   0,   0,   0,   0,  37, 187, 253, 254, 254, 254,\n",
              "        223, 206, 206,  75,  68, 215, 254, 254, 117,   0,   0,   0,   0,\n",
              "          0,   0],\n",
              "       [  0,   0,   0,   0,   0,   0, 113, 219, 254, 242, 227, 115,  89,\n",
              "         31,   0,   0,   0,   0, 200, 254, 241,  41,   0,   0,   0,   0,\n",
              "          0,   0],\n",
              "       [  0,   0,   0,   0,   0,   0, 169, 254, 176,  62,   0,   0,   0,\n",
              "          0,   0,   0,   0,  48, 231, 254, 234,   0,   0,   0,   0,   0,\n",
              "          0,   0],\n",
              "       [  0,   0,   0,   0,   0,   0,  18, 124,   0,   0,   0,   0,   0,\n",
              "          0,   0,   0,   0,  84, 254, 254, 166,   0,   0,   0,   0,   0,\n",
              "          0,   0],\n",
              "       [  0,   0,   0,   0,   0,   0,   0,   0,   0,   0,   0,   0,   0,\n",
              "          0,   0,   0,   0, 139, 254, 238,  57,   0,   0,   0,   0,   0,\n",
              "          0,   0],\n",
              "       [  0,   0,   0,   0,   0,   0,   0,   0,   0,   0,   0,   0,   0,\n",
              "          0,   0,   0, 210, 250, 254, 168,   0,   0,   0,   0,   0,   0,\n",
              "          0,   0],\n",
              "       [  0,   0,   0,   0,   0,   0,   0,   0,   0,   0,   0,   0,   0,\n",
              "          0,   0,   0, 242, 254, 239,  57,   0,   0,   0,   0,   0,   0,\n",
              "          0,   0],\n",
              "       [  0,   0,   0,   0,   0,   0,   0,   0,   0,   0,   0,   0,   0,\n",
              "          0,   0,  89, 251, 241,  86,   0,   0,   0,   0,   0,   0,   0,\n",
              "          0,   0],\n",
              "       [  0,   0,   0,   0,   0,   0,   0,   0,   0,   0,   0,   0,   0,\n",
              "          0,   5, 206, 246, 157,   0,   0,   0,   0,   0,   0,   0,   0,\n",
              "          0,   0],\n",
              "       [  0,   0,   0,   0,   0,   0,   0,   0,   0,   0,   0,   0,   0,\n",
              "          0,   4, 117,  69,   0,   0,   0,   0,   0,   0,   0,   0,   0,\n",
              "          0,   0],\n",
              "       [  0,   0,   0,   0,   0,   0,   0,   0,   0,   0,   0,   0,   0,\n",
              "          0,   0,   0,   0,   0,   0,   0,   0,   0,   0,   0,   0,   0,\n",
              "          0,   0]], dtype=uint8)"
            ]
          },
          "metadata": {
            "tags": []
          },
          "execution_count": 21
        }
      ]
    },
    {
      "cell_type": "code",
      "metadata": {
        "colab": {
          "base_uri": "https://localhost:8080/"
        },
        "id": "rufjhxO8pOii",
        "outputId": "aa5d9e88-ffef-428b-aac9-3baf03c0281d"
      },
      "source": [
        "print(f\"data type of X_train_full : {X_train_full.dtype}\\nShape of X_train_full : {X_train_full.shape}\")"
      ],
      "execution_count": 22,
      "outputs": [
        {
          "output_type": "stream",
          "text": [
            "data type of X_train_full : uint8\n",
            "Shape of X_train_full : (60000, 28, 28)\n"
          ],
          "name": "stdout"
        }
      ]
    },
    {
      "cell_type": "code",
      "metadata": {
        "id": "H9Nkix7XqO4U"
      },
      "source": [
        "X_valid,X_train=X_train_full[:5000]/255.,X_train_full[5000:]/255.\n",
        "y_valid,y_train=y_train_full[:5000],y_train_full[5000:]\n",
        "\n",
        "X_test = X_test/255."
      ],
      "execution_count": 25,
      "outputs": []
    },
    {
      "cell_type": "code",
      "metadata": {
        "colab": {
          "base_uri": "https://localhost:8080/",
          "height": 248
        },
        "id": "-KrTq89c0jZE",
        "outputId": "28b628f5-7033-4ee8-e3dd-e549e5e288a5"
      },
      "source": [
        "#Lets view the first data point of X_train\n",
        "plt.imshow(X_train[5000],cmap='binary')\n",
        "plt.axis('off')\n",
        "plt.show()"
      ],
      "execution_count": 26,
      "outputs": [
        {
          "output_type": "display_data",
          "data": {
            "image/png": "[encoded data removed]",
            "text/plain": [
              "<Figure size 432x288 with 1 Axes>"
            ]
          },
          "metadata": {
            "tags": [],
            "needs_background": "light"
          }
        }
      ]
    },
    {
      "cell_type": "code",
      "metadata": {
        "colab": {
          "base_uri": "https://localhost:8080/",
          "height": 884
        },
        "id": "dsdZQWKU1FkZ",
        "outputId": "7d3f5b4c-2057-44a6-8f38-dcc760f036da"
      },
      "source": [
        "plt.figure(figsize=(15,15))\n",
        "sns.heatmap(X_train[5000],annot=True,cmap=\"binary\")"
      ],
      "execution_count": 28,
      "outputs": [
        {
          "output_type": "execute_result",
          "data": {
            "text/plain": [
              "<matplotlib.axes._subplots.AxesSubplot at 0x7f31322c04a8>"
            ]
          },
          "metadata": {
            "tags": []
          },
          "execution_count": 28
        },
        {
          "output_type": "display_data",
          "data": {
            "image/png": "[encoded data removed]",
            "text/plain": [
              "<Figure size 1080x1080 with 2 Axes>"
            ]
          },
          "metadata": {
            "tags": [],
            "needs_background": "light"
          }
        }
      ]
    },
    {
      "cell_type": "code",
      "metadata": {
        "colab": {
          "base_uri": "https://localhost:8080/"
        },
        "id": "yIPlUmHN2TXB",
        "outputId": "90162c25-693b-493b-b3ca-5ac620456442"
      },
      "source": [
        "y_train.shape"
      ],
      "execution_count": 29,
      "outputs": [
        {
          "output_type": "execute_result",
          "data": {
            "text/plain": [
              "(55000,)"
            ]
          },
          "metadata": {
            "tags": []
          },
          "execution_count": 29
        }
      ]
    },
    {
      "cell_type": "code",
      "metadata": {
        "colab": {
          "base_uri": "https://localhost:8080/"
        },
        "id": "jDuEpUsK2gyQ",
        "outputId": "8438d241-ce99-4472-d432-ea5f1089c6d5"
      },
      "source": [
        "X_train.shape"
      ],
      "execution_count": 30,
      "outputs": [
        {
          "output_type": "execute_result",
          "data": {
            "text/plain": [
              "(55000, 28, 28)"
            ]
          },
          "metadata": {
            "tags": []
          },
          "execution_count": 30
        }
      ]
    },
    {
      "cell_type": "code",
      "metadata": {
        "id": "mQz64fwl2ldJ"
      },
      "source": [
        "# create ANN\n",
        "LAYERS = [tf.keras.layers.Flatten(input_shape=[28,28],name=\"inputlayer\"),\n",
        "          tf.keras.layers.Dense(300,activation=\"relu\",name=\"hiddenlayer1\"),\n",
        "          tf.keras.layers.Dense(100,activation=\"relu\",name=\"hiddenlayer2\"),\n",
        "          tf.keras.layers.Dense(10,activation=\"softmax\",name=\"outputlayer\")]\n",
        "\n",
        "model_clf = tf.keras.models.Sequential(LAYERS)"
      ],
      "execution_count": 31,
      "outputs": []
    },
    {
      "cell_type": "code",
      "metadata": {
        "colab": {
          "base_uri": "https://localhost:8080/"
        },
        "id": "kcQA7BS54-j2",
        "outputId": "7fbd7c98-ab1b-427e-d370-53c3b4ef6a19"
      },
      "source": [
        "model_clf.layers"
      ],
      "execution_count": 32,
      "outputs": [
        {
          "output_type": "execute_result",
          "data": {
            "text/plain": [
              "[<tensorflow.python.keras.layers.core.Flatten at 0x7f312fe04a20>,\n",
              " <tensorflow.python.keras.layers.core.Dense at 0x7f313ca77ba8>,\n",
              " <tensorflow.python.keras.layers.core.Dense at 0x7f312ff71748>,\n",
              " <tensorflow.python.keras.layers.core.Dense at 0x7f312fd9c0b8>]"
            ]
          },
          "metadata": {
            "tags": []
          },
          "execution_count": 32
        }
      ]
    },
    {
      "cell_type": "code",
      "metadata": {
        "colab": {
          "base_uri": "https://localhost:8080/"
        },
        "id": "InaNXaoC5ld4",
        "outputId": "818e55ff-6cbc-44b7-b953-d97d13671650"
      },
      "source": [
        "model_clf.summary()"
      ],
      "execution_count": 33,
      "outputs": [
        {
          "output_type": "stream",
          "text": [
            "Model: \"sequential\"\n",
            "_________________________________________________________________\n",
            "Layer (type)                 Output Shape              Param #   \n",
            "=================================================================\n",
            "inputlayer (Flatten)         (None, 784)               0         \n",
            "_________________________________________________________________\n",
            "hiddenlayer1 (Dense)         (None, 300)               235500    \n",
            "_________________________________________________________________\n",
            "hiddenlayer2 (Dense)         (None, 100)               30100     \n",
            "_________________________________________________________________\n",
            "outputlayer (Dense)          (None, 10)                1010      \n",
            "=================================================================\n",
            "Total params: 266,610\n",
            "Trainable params: 266,610\n",
            "Non-trainable params: 0\n",
            "_________________________________________________________________\n"
          ],
          "name": "stdout"
        }
      ]
    },
    {
      "cell_type": "code",
      "metadata": {
        "colab": {
          "base_uri": "https://localhost:8080/"
        },
        "id": "U3Ssemzf5toR",
        "outputId": "314c6c25-49a7-451b-9d47-d11b450f7c24"
      },
      "source": [
        "for lr in model_clf.layers:\n",
        "  print(lr.name)"
      ],
      "execution_count": 36,
      "outputs": [
        {
          "output_type": "stream",
          "text": [
            "inputlayer\n",
            "hiddenlayer1\n",
            "hiddenlayer2\n",
            "outputlayer\n"
          ],
          "name": "stdout"
        }
      ]
    },
    {
      "cell_type": "code",
      "metadata": {
        "id": "QU3nrAj1FEVl"
      },
      "source": [
        "#model_clf.get_layer(lr.name) is hiddenlayer1"
      ],
      "execution_count": 41,
      "outputs": []
    },
    {
      "cell_type": "code",
      "metadata": {
        "colab": {
          "base_uri": "https://localhost:8080/"
        },
        "id": "17Cn_lXcFdkY",
        "outputId": "eec362b5-2b9f-47f7-e26c-9e696c43ef06"
      },
      "source": [
        "lr.get_weights()"
      ],
      "execution_count": 39,
      "outputs": [
        {
          "output_type": "execute_result",
          "data": {
            "text/plain": [
              "[array([[ 2.79803872e-02,  1.39750302e-01, -1.53935507e-01,\n",
              "          1.36167079e-01, -5.08019328e-03, -6.12045676e-02,\n",
              "         -1.15456946e-01, -3.58818620e-02, -1.48445427e-01,\n",
              "          7.56172240e-02],\n",
              "        [-1.24301180e-01,  4.58120704e-02, -5.38421124e-02,\n",
              "         -1.66750014e-01, -1.66104436e-02, -4.94583249e-02,\n",
              "          1.84131294e-01,  1.34729743e-01,  1.79619193e-02,\n",
              "          2.08310544e-01],\n",
              "        [ 1.27104193e-01,  6.46945238e-02, -1.12654001e-01,\n",
              "          2.19965279e-02, -5.68454564e-02, -1.29043445e-01,\n",
              "          1.32795066e-01,  1.22822762e-01,  1.79104269e-01,\n",
              "         -2.14928657e-01],\n",
              "        [-2.97475308e-02, -3.19632441e-02, -9.67203677e-02,\n",
              "         -2.12595165e-01, -1.25169098e-01,  3.59705687e-02,\n",
              "          1.20805830e-01,  1.42591745e-01,  1.20939106e-01,\n",
              "          1.82546228e-01],\n",
              "        [-5.93993366e-02,  2.05371976e-02, -2.25001678e-01,\n",
              "         -1.36778697e-01,  7.67643452e-02, -2.27502331e-01,\n",
              "          1.91705346e-01, -1.58854455e-01, -1.53493047e-01,\n",
              "         -2.40421295e-02],\n",
              "        [-1.56325579e-01,  1.26185805e-01, -1.29039541e-01,\n",
              "         -2.28663430e-01, -8.63250941e-02, -2.90897489e-03,\n",
              "          1.01237506e-01,  1.14241242e-02,  6.82852268e-02,\n",
              "          1.60128355e-01],\n",
              "        [-8.07416886e-02,  3.04420590e-02,  2.53002644e-02,\n",
              "          3.34726870e-02, -8.02763551e-02, -8.36046189e-02,\n",
              "          1.16508514e-01,  1.45514458e-01,  1.88290477e-01,\n",
              "         -1.65127873e-01],\n",
              "        [-9.75521058e-02, -2.10674942e-01, -2.32112288e-01,\n",
              "          1.09724879e-01, -1.50333673e-01,  1.59225404e-01,\n",
              "          1.97261572e-02,  2.25206017e-02, -1.83530122e-01,\n",
              "          1.42485648e-02],\n",
              "        [ 1.12205923e-01,  3.26429009e-02, -2.20897600e-01,\n",
              "         -1.51625395e-01,  3.08235288e-02,  2.29152501e-01,\n",
              "         -1.40558034e-01, -6.49605840e-02,  1.57030284e-01,\n",
              "         -1.69301614e-01],\n",
              "        [ 1.67404115e-02,  1.49895847e-02,  1.15951955e-01,\n",
              "         -1.98092788e-01,  2.71908641e-02, -1.72396123e-01,\n",
              "         -5.57606518e-02,  1.99279994e-01, -1.29088372e-01,\n",
              "          1.18139178e-01],\n",
              "        [ 1.85520828e-01,  1.49609923e-01,  4.48763371e-03,\n",
              "         -3.76335233e-02,  9.37185884e-02,  4.68478203e-02,\n",
              "          1.44490063e-01,  2.10323036e-02, -4.41298932e-02,\n",
              "          2.26115942e-01],\n",
              "        [ 2.32006997e-01, -9.45805460e-02,  1.91216111e-01,\n",
              "         -2.12357163e-01,  9.51112509e-02,  7.71816075e-03,\n",
              "          2.04490066e-01, -1.41270444e-01,  1.22254550e-01,\n",
              "          8.70491266e-02],\n",
              "        [ 6.02905452e-02,  3.79036963e-02,  8.41201842e-03,\n",
              "          3.75913084e-02,  6.72200620e-02, -1.52839616e-01,\n",
              "          5.14744818e-02, -1.59559786e-01, -2.31645614e-01,\n",
              "         -1.15466118e-02],\n",
              "        [ 1.22630864e-01, -7.99443722e-02, -2.21380919e-01,\n",
              "          5.30781448e-02,  1.12094581e-02, -1.08145654e-01,\n",
              "         -2.37296373e-02, -1.53879941e-01, -4.86409664e-02,\n",
              "         -5.82235456e-02],\n",
              "        [-1.82625681e-01, -7.68941343e-02, -2.00727075e-01,\n",
              "         -1.28106192e-01,  1.77891999e-01,  1.74689174e-01,\n",
              "          9.84676480e-02, -2.18116984e-01,  4.37023640e-02,\n",
              "          1.28698140e-01],\n",
              "        [ 1.89813644e-01, -1.82218805e-01,  8.89220238e-02,\n",
              "          8.38436186e-02,  7.42771626e-02,  9.84303951e-02,\n",
              "          1.95748448e-01,  2.13170409e-01,  1.66314125e-01,\n",
              "          1.45423740e-01],\n",
              "        [-7.61920959e-02,  9.06244218e-02,  1.37188584e-01,\n",
              "         -1.76563740e-01, -1.44386619e-01,  7.16771185e-02,\n",
              "          1.25570923e-01,  8.56550038e-02,  1.11046612e-01,\n",
              "         -4.20063734e-03],\n",
              "        [ 1.52987510e-01,  1.65278494e-01,  9.21064615e-02,\n",
              "          2.85598338e-02, -2.22156420e-01,  2.32185453e-01,\n",
              "          2.33313382e-01, -8.64352882e-02,  1.68454230e-01,\n",
              "          1.29450202e-01],\n",
              "        [ 4.83989716e-02,  5.58003485e-02, -2.23168507e-01,\n",
              "         -1.75992996e-01,  1.68565005e-01, -7.71349072e-02,\n",
              "          1.16889924e-02,  1.30611807e-02,  7.89881945e-02,\n",
              "         -1.67269975e-01],\n",
              "        [ 3.03970575e-02,  1.82354748e-02, -1.14991494e-01,\n",
              "         -1.08669236e-01,  2.53820121e-02, -2.03139424e-01,\n",
              "          1.13601267e-01,  1.63281173e-01,  1.25572085e-02,\n",
              "         -1.22142591e-01],\n",
              "        [ 1.56480879e-01,  1.11758739e-01, -9.74719673e-02,\n",
              "         -1.42943859e-02, -8.34875703e-02,  4.15947139e-02,\n",
              "          3.34699750e-02,  1.05377555e-01, -1.21152326e-01,\n",
              "         -1.47429615e-01],\n",
              "        [-2.16212124e-02,  8.39800835e-02, -1.47715479e-01,\n",
              "          1.77458733e-01, -5.45489937e-02, -1.93176240e-01,\n",
              "         -2.25785136e-01,  1.87734216e-01,  2.45267749e-02,\n",
              "          7.80135393e-02],\n",
              "        [ 1.12076908e-01,  1.58678442e-01,  1.66678131e-02,\n",
              "         -2.19426632e-01, -2.33006001e-01, -9.29059982e-02,\n",
              "         -2.29397878e-01,  4.34751213e-02,  1.03302538e-01,\n",
              "          8.20995867e-03],\n",
              "        [-8.44832361e-02, -1.65444493e-01, -1.31293863e-01,\n",
              "         -7.01072067e-02,  4.36448455e-02,  4.49457467e-02,\n",
              "          1.43883228e-01, -1.73951328e-01,  1.47347212e-01,\n",
              "          6.98325336e-02],\n",
              "        [-1.22987740e-01,  6.21539652e-02,  2.06714302e-01,\n",
              "          2.21666753e-01, -2.26791829e-01, -8.77226740e-02,\n",
              "          3.51752341e-03, -1.68889344e-01,  4.66925800e-02,\n",
              "          1.44580990e-01],\n",
              "        [ 2.28649676e-01, -1.14727281e-01, -1.72663510e-01,\n",
              "         -6.92591071e-03, -4.38083261e-02, -1.40586793e-02,\n",
              "         -1.12616576e-01, -4.15727347e-02, -1.03563651e-01,\n",
              "          2.24383831e-01],\n",
              "        [ 1.60726666e-01,  6.48380816e-02,  2.20207125e-01,\n",
              "         -9.10287797e-02,  1.08987361e-01, -1.50700957e-01,\n",
              "          1.93209589e-01,  2.26329505e-01,  7.44337440e-02,\n",
              "          6.82807565e-02],\n",
              "        [-4.55516875e-02,  3.27320695e-02,  2.25803852e-01,\n",
              "         -1.33224636e-01, -2.15179056e-01, -1.09754205e-02,\n",
              "          2.81110704e-02,  1.70358479e-01, -1.38205409e-01,\n",
              "          1.77035302e-01],\n",
              "        [ 3.36359441e-02,  9.86403525e-02, -2.10542202e-01,\n",
              "          1.42167717e-01, -1.07154503e-01, -2.18755156e-02,\n",
              "          1.99101657e-01, -5.66272438e-02, -1.29902959e-02,\n",
              "          5.38317561e-02],\n",
              "        [-1.34124815e-01, -7.72944987e-02,  2.08246797e-01,\n",
              "          1.53017789e-01,  6.61728978e-02, -1.83064342e-01,\n",
              "          1.52842790e-01, -3.06911767e-02, -4.03510034e-03,\n",
              "          9.21844244e-02],\n",
              "        [-4.85961884e-02, -2.22829834e-01,  1.56685829e-01,\n",
              "          2.24408895e-01,  1.87820315e-01,  3.66854668e-02,\n",
              "          1.40012234e-01, -1.59009397e-02, -3.75802368e-02,\n",
              "          1.13312095e-01],\n",
              "        [-1.82097256e-01, -2.18444839e-01,  3.97526920e-02,\n",
              "         -1.19974419e-01,  6.89511895e-02,  3.09620798e-02,\n",
              "         -1.73791245e-01,  1.08266979e-01,  3.26757133e-03,\n",
              "         -7.74104893e-02],\n",
              "        [ 3.89064848e-03, -1.38571739e-01, -2.11104140e-01,\n",
              "          2.32805610e-01, -8.47907066e-02, -4.04912084e-02,\n",
              "         -1.31086439e-01,  2.01345384e-02, -9.56180841e-02,\n",
              "         -1.29642427e-01],\n",
              "        [ 1.24863356e-01, -1.01664871e-01,  5.00247777e-02,\n",
              "         -1.42230913e-01,  6.59194887e-02, -2.24987090e-01,\n",
              "         -1.81679249e-01,  1.51659578e-01, -2.17465103e-01,\n",
              "          3.36013138e-02],\n",
              "        [ 2.77509689e-02, -6.72080368e-02, -9.82204080e-02,\n",
              "          7.87511468e-02,  2.04654723e-01,  9.25917923e-02,\n",
              "         -1.41147777e-01, -2.07483381e-01,  3.61406207e-02,\n",
              "          1.63502336e-01],\n",
              "        [ 1.77753687e-01, -7.41416961e-02,  1.10126942e-01,\n",
              "          1.23593330e-01, -2.19208628e-01, -2.02322885e-01,\n",
              "          1.30499154e-01,  1.11495525e-01, -1.08725481e-01,\n",
              "          2.06924438e-01],\n",
              "        [-1.85838953e-01, -2.28420764e-01, -2.26847842e-01,\n",
              "         -9.78062302e-02, -3.84600163e-02,  1.37271315e-01,\n",
              "         -1.35094255e-01,  2.12523222e-01, -2.49877870e-02,\n",
              "          1.33135498e-01],\n",
              "        [-1.15903296e-01,  1.76003963e-01,  6.42259121e-02,\n",
              "         -4.82145399e-02, -1.78356558e-01, -3.95306796e-02,\n",
              "          6.53985143e-02, -7.78618455e-02,  2.28471607e-01,\n",
              "         -2.91345716e-02],\n",
              "        [ 7.84057677e-02,  1.53204232e-01,  8.36955011e-02,\n",
              "          1.92279428e-01, -5.73516190e-02,  6.68630302e-02,\n",
              "         -1.89045668e-02, -1.05249330e-01,  1.96311682e-01,\n",
              "          1.72849417e-01],\n",
              "        [ 1.83519661e-01, -2.16050535e-01,  1.32307410e-02,\n",
              "         -2.21437052e-01,  2.08627760e-01,  8.40560198e-02,\n",
              "         -2.11838096e-01, -1.83467433e-01, -1.62296802e-01,\n",
              "         -9.83321071e-02],\n",
              "        [ 1.80280119e-01, -2.13833928e-01,  1.06633037e-01,\n",
              "          1.18184268e-01,  1.67450726e-01,  8.84899199e-02,\n",
              "          1.02510005e-02,  2.55179405e-02,  2.19357252e-01,\n",
              "         -2.71880776e-02],\n",
              "        [ 1.73943043e-01, -1.50399327e-01, -1.15014546e-01,\n",
              "         -4.67413515e-02,  6.56086802e-02,  9.81045365e-02,\n",
              "          1.61612451e-01, -2.84890980e-02, -9.28046107e-02,\n",
              "          1.51902020e-01],\n",
              "        [-8.72912407e-02,  1.70214295e-01, -5.65638095e-02,\n",
              "         -5.60625046e-02,  8.70010257e-02,  2.84959376e-02,\n",
              "          7.59200156e-02, -4.08584923e-02,  1.01900399e-01,\n",
              "          4.39208746e-02],\n",
              "        [ 1.20986402e-01, -2.09120363e-02, -3.40282321e-02,\n",
              "         -6.73673451e-02, -7.73008168e-03,  1.23214751e-01,\n",
              "         -4.78959084e-03, -1.74614847e-01, -1.57940835e-02,\n",
              "         -2.33491719e-01],\n",
              "        [ 1.07163578e-01, -1.61703229e-01, -2.26362735e-01,\n",
              "          1.57041252e-01,  3.18629742e-02, -6.60971254e-02,\n",
              "          1.40427798e-01, -1.36026263e-01,  1.92905664e-02,\n",
              "         -1.65521771e-01],\n",
              "        [-9.16491449e-03, -4.54602689e-02,  2.32895315e-02,\n",
              "          1.22859955e-01,  7.61810243e-02,  1.18821859e-01,\n",
              "          1.81725949e-01,  4.66609001e-02,  1.63805187e-01,\n",
              "          1.00173414e-01],\n",
              "        [ 1.33872241e-01, -8.50941837e-02,  8.76178741e-02,\n",
              "          7.00926781e-03, -1.52166188e-01, -1.72046155e-01,\n",
              "         -2.31973305e-01,  4.62405384e-02,  6.73552752e-02,\n",
              "          1.13050789e-01],\n",
              "        [ 2.17841685e-01,  1.11466050e-01,  1.38020426e-01,\n",
              "         -2.20273450e-01,  2.10313737e-01,  1.57758504e-01,\n",
              "          8.90798867e-02,  1.25005454e-01, -9.35332030e-02,\n",
              "          1.17920399e-01],\n",
              "        [ 3.27615738e-02,  2.06147105e-01,  1.59622431e-02,\n",
              "          1.86227173e-01,  1.97568476e-01, -1.56523734e-02,\n",
              "          2.20159411e-01,  2.32723981e-01, -1.27367899e-01,\n",
              "          7.43695498e-02],\n",
              "        [ 7.35851526e-02,  3.06337178e-02, -2.03319550e-01,\n",
              "         -1.24657825e-01, -5.72450906e-02, -1.20133393e-01,\n",
              "          8.64687562e-02, -1.77005306e-01, -5.31535894e-02,\n",
              "          2.12930411e-01],\n",
              "        [ 1.12608522e-02, -1.53448284e-01,  1.80598617e-01,\n",
              "         -1.96578726e-01, -1.10898659e-01,  1.93356782e-01,\n",
              "          2.20106691e-01, -1.65608972e-01, -1.42702222e-01,\n",
              "          1.09291524e-02],\n",
              "        [ 2.27808028e-01,  6.65930808e-02,  1.46298200e-01,\n",
              "         -3.39351594e-03,  8.35999846e-02,  1.44818813e-01,\n",
              "         -7.99108595e-02, -2.09433272e-01,  2.13325024e-03,\n",
              "         -3.52388918e-02],\n",
              "        [-2.63200998e-02,  1.89412326e-01, -1.22798860e-01,\n",
              "          1.44817263e-01, -8.81441981e-02, -2.02670857e-01,\n",
              "         -1.36547774e-01, -1.05232015e-01, -2.14313194e-01,\n",
              "          5.94962239e-02],\n",
              "        [ 3.91086638e-02,  2.45211124e-02,  9.79980528e-02,\n",
              "         -6.65917546e-02,  1.02307826e-01, -3.21984291e-03,\n",
              "         -1.64776906e-01,  7.98220932e-02,  4.83256876e-02,\n",
              "          1.94331557e-01],\n",
              "        [-6.04193360e-02,  1.45016700e-01, -1.24192819e-01,\n",
              "          1.23004049e-01, -1.00942999e-02, -1.47673488e-01,\n",
              "          6.00599647e-02, -4.68872488e-02, -4.01407927e-02,\n",
              "         -1.01127371e-01],\n",
              "        [ 1.28923953e-01,  1.94493413e-01,  1.58754230e-01,\n",
              "          2.00760424e-01,  3.45500410e-02,  1.35907441e-01,\n",
              "          3.81292105e-02, -1.55315652e-01, -9.42930579e-04,\n",
              "          1.57413453e-01],\n",
              "        [ 3.97124887e-02,  1.24065369e-01,  2.27288634e-01,\n",
              "          8.69323611e-02,  2.31734723e-01,  1.92199856e-01,\n",
              "         -1.65608689e-01,  1.54161125e-01,  9.00717080e-02,\n",
              "         -7.51777738e-02],\n",
              "        [ 2.14863956e-01, -2.13585421e-01,  1.37388587e-01,\n",
              "         -1.54120818e-01, -6.65663034e-02, -1.18021965e-01,\n",
              "          2.03173608e-01, -1.94600776e-01,  8.18689466e-02,\n",
              "         -5.74153662e-02],\n",
              "        [-4.87737060e-02, -3.44257057e-02,  2.25090444e-01,\n",
              "          8.03305209e-02, -1.54918849e-01,  1.53865963e-01,\n",
              "         -2.04762235e-01, -1.29766971e-01,  2.30425894e-01,\n",
              "         -1.48498446e-01],\n",
              "        [-1.00306377e-01,  1.78618193e-01, -1.06615216e-01,\n",
              "          2.27809548e-01,  1.76002413e-01, -1.99582368e-01,\n",
              "         -2.12631464e-01, -1.51741207e-02,  1.72567219e-01,\n",
              "          2.02533990e-01],\n",
              "        [-5.44423610e-02, -1.52964741e-01,  8.63861740e-02,\n",
              "         -4.83814776e-02, -1.92176744e-01,  1.31144226e-02,\n",
              "         -1.26711518e-01,  8.75195563e-02,  1.19526535e-02,\n",
              "          7.95374513e-02],\n",
              "        [-6.04858249e-02, -1.98122084e-01,  1.07136399e-01,\n",
              "          1.12720996e-01, -1.48521602e-01,  5.86369336e-02,\n",
              "         -5.83529025e-02,  5.61776459e-02,  8.25022161e-02,\n",
              "          1.27694637e-01],\n",
              "        [-1.79790094e-01, -6.89534843e-03, -1.80205882e-01,\n",
              "          2.02613324e-01,  1.52036011e-01, -9.55092758e-02,\n",
              "          1.30552709e-01, -1.86661661e-01,  2.76074708e-02,\n",
              "         -1.91218168e-01],\n",
              "        [ 1.88269615e-01,  1.54733896e-01,  1.17876351e-01,\n",
              "          2.71595120e-02, -1.08026937e-01,  8.60913396e-02,\n",
              "         -2.08283260e-01, -1.62034214e-01,  9.64745879e-02,\n",
              "         -1.61328435e-01],\n",
              "        [ 1.23414397e-03, -4.07335907e-02,  7.50656426e-02,\n",
              "          1.92580998e-01,  1.05741113e-01,  1.63423777e-01,\n",
              "          9.88036692e-02,  1.36649281e-01,  2.06398189e-01,\n",
              "          7.89767802e-02],\n",
              "        [ 2.07810700e-01,  1.28592908e-01,  1.09158397e-01,\n",
              "          3.18159163e-02,  1.70977443e-01, -8.63745958e-02,\n",
              "         -1.53979838e-01,  1.04574114e-02,  5.47754765e-03,\n",
              "         -1.65780753e-01],\n",
              "        [ 1.93587512e-01, -8.88730288e-02, -1.56524971e-01,\n",
              "         -8.58291984e-03, -2.03347787e-01, -3.60018462e-02,\n",
              "          1.94575220e-01, -1.25300407e-01, -4.04543430e-02,\n",
              "          9.61147249e-02],\n",
              "        [ 1.58284754e-01, -1.15127712e-02,  1.77403271e-01,\n",
              "         -1.84857249e-02,  1.38696134e-01,  1.46834850e-01,\n",
              "         -6.51060790e-02, -6.81890100e-02, -2.22046331e-01,\n",
              "          1.74112380e-01],\n",
              "        [-1.59338892e-01,  7.81256258e-02, -5.00053614e-02,\n",
              "          1.48023069e-01,  1.40132457e-02,  8.20933878e-02,\n",
              "          1.81542337e-03,  1.74950063e-01,  8.63479972e-02,\n",
              "          7.65836239e-03],\n",
              "        [ 1.81639373e-01,  1.23191655e-01, -1.65414035e-01,\n",
              "          6.06597662e-02,  3.00436616e-02, -2.00131670e-01,\n",
              "          1.34088129e-01, -1.90858245e-01, -3.39574069e-02,\n",
              "          1.73007399e-01],\n",
              "        [ 8.05327892e-02, -1.00311667e-01, -1.88360989e-01,\n",
              "          1.25676811e-01, -4.02700901e-02, -1.58480927e-01,\n",
              "         -1.19235903e-01, -2.46682167e-02,  2.24035919e-01,\n",
              "         -1.26114368e-01],\n",
              "        [ 1.18430734e-01, -1.00477606e-01, -1.80065453e-01,\n",
              "          5.69034219e-02, -1.19614601e-01, -1.92419186e-01,\n",
              "         -7.64709562e-02, -5.65043539e-02, -9.69813466e-02,\n",
              "          7.95867741e-02],\n",
              "        [-8.59678388e-02,  1.03904158e-01,  1.10340446e-01,\n",
              "         -8.03456306e-02, -2.22700268e-01, -7.33633637e-02,\n",
              "         -7.60710388e-02,  1.92269176e-01,  7.37699866e-03,\n",
              "          1.26717985e-01],\n",
              "        [ 1.15726799e-01, -1.68862283e-01, -2.21829608e-01,\n",
              "          1.38169825e-01, -2.08605498e-01,  1.60057068e-01,\n",
              "          1.40587598e-01,  1.78624541e-01, -7.36411661e-02,\n",
              "          5.05681336e-03],\n",
              "        [ 1.34670377e-01,  6.88662827e-02, -2.13051587e-01,\n",
              "         -1.20962061e-01,  1.97686553e-02, -2.00231060e-01,\n",
              "          3.89998555e-02,  6.44313097e-02,  1.01479232e-01,\n",
              "          1.26068980e-01],\n",
              "        [-4.11263704e-02,  5.03097177e-02,  1.89685673e-01,\n",
              "         -9.73940194e-02,  9.09292102e-02,  2.20633149e-01,\n",
              "         -4.81052399e-02, -1.21580750e-01, -1.52049705e-01,\n",
              "         -1.30390227e-01],\n",
              "        [-1.89170241e-03, -7.36391544e-02, -5.98782152e-02,\n",
              "         -3.76863033e-02, -1.97890669e-01,  1.58461541e-01,\n",
              "         -2.04608604e-01, -1.18466146e-01,  7.88971782e-04,\n",
              "         -1.46239549e-01],\n",
              "        [ 4.97123599e-03,  8.83049965e-02, -1.59485638e-03,\n",
              "          1.13287508e-01,  8.92399848e-02,  1.91247612e-01,\n",
              "         -2.08716094e-02, -2.14337468e-01, -1.20621227e-01,\n",
              "          2.21928388e-01],\n",
              "        [-1.81087106e-01, -2.07205638e-01, -6.75665885e-02,\n",
              "         -1.88083947e-03,  3.45330536e-02,  2.61046588e-02,\n",
              "          6.78252876e-02, -1.23379827e-02, -1.10149674e-01,\n",
              "         -5.22283763e-02],\n",
              "        [-1.27915025e-01, -1.46384835e-01,  6.67342842e-02,\n",
              "         -1.14606895e-01,  1.54162019e-01,  1.68865740e-01,\n",
              "         -6.45725876e-02, -1.46991163e-01, -1.33533806e-01,\n",
              "         -1.93140894e-01],\n",
              "        [-2.42623538e-02, -8.47930461e-02, -3.62614989e-02,\n",
              "          6.26963079e-02,  7.80200958e-02, -2.22136647e-01,\n",
              "         -4.49596196e-02,  4.03776765e-03, -1.20126262e-01,\n",
              "         -3.64207029e-02],\n",
              "        [ 6.28507733e-02,  1.76562458e-01,  6.39013946e-02,\n",
              "         -1.84994519e-01, -6.73088878e-02, -7.11655766e-02,\n",
              "         -1.54546902e-01,  3.99618447e-02,  1.75206482e-01,\n",
              "          8.57996643e-02],\n",
              "        [ 1.96877539e-01, -2.07048833e-01, -2.32256785e-01,\n",
              "         -9.96269435e-02,  1.62817925e-01, -4.12744880e-02,\n",
              "         -4.65875566e-02,  1.82172865e-01, -1.20628916e-01,\n",
              "          1.71221375e-01],\n",
              "        [ 1.17428839e-01, -1.36971742e-01, -9.18528736e-02,\n",
              "         -1.85070038e-02, -2.52019912e-02, -1.65194467e-01,\n",
              "         -3.62691283e-02, -2.32170090e-01,  6.44637942e-02,\n",
              "          1.23268098e-01],\n",
              "        [-1.88139424e-01, -9.46806669e-02, -9.95686501e-02,\n",
              "         -3.60163301e-02,  1.11989319e-01,  9.30349529e-03,\n",
              "         -1.00453496e-01,  1.85512602e-01, -5.04884571e-02,\n",
              "         -1.06346726e-01],\n",
              "        [-1.55423462e-01, -1.17401324e-01, -4.56079841e-02,\n",
              "         -1.84824586e-01,  2.28895515e-01, -1.40045047e-01,\n",
              "          1.33500934e-01, -1.02444321e-01, -9.56550539e-02,\n",
              "          1.21431500e-02],\n",
              "        [ 2.18454421e-01,  1.36979997e-01, -1.09545402e-01,\n",
              "         -1.94069505e-01,  5.78507483e-02,  1.71415269e-01,\n",
              "         -1.68472782e-01,  9.09241438e-02,  1.75436676e-01,\n",
              "         -1.87604532e-01],\n",
              "        [ 5.62607944e-02,  1.17885590e-01, -1.65521547e-01,\n",
              "          6.10423088e-02,  2.09689140e-03, -1.40433937e-01,\n",
              "          1.08267486e-01,  1.25068665e-01, -2.09448338e-02,\n",
              "         -1.00048572e-01],\n",
              "        [ 1.56321883e-01, -5.45879751e-02,  3.34190130e-02,\n",
              "         -7.80238360e-02, -2.05972105e-01, -3.19614708e-02,\n",
              "          8.03550780e-02,  8.10252726e-02, -2.96532661e-02,\n",
              "          1.38533145e-01],\n",
              "        [ 1.27330154e-01,  1.83703870e-01, -1.75308377e-01,\n",
              "          1.19053930e-01, -1.42202184e-01, -3.00555080e-02,\n",
              "         -1.78223863e-01,  1.87983185e-01, -1.56087473e-01,\n",
              "          2.49030292e-02],\n",
              "        [-1.44435734e-01, -2.26056919e-01, -1.22924820e-01,\n",
              "          9.69156623e-02,  8.65202546e-02, -1.30699933e-01,\n",
              "          3.83874476e-02,  4.19996977e-02,  5.50511479e-02,\n",
              "          6.60444498e-02],\n",
              "        [-3.20633650e-02,  3.92723083e-03,  4.66091037e-02,\n",
              "          2.23457813e-04,  1.21164232e-01,  8.87535810e-02,\n",
              "         -1.91721648e-01,  1.07482523e-01, -2.12001577e-01,\n",
              "          9.57674682e-02],\n",
              "        [ 3.89610529e-02, -1.64496601e-01,  1.83513880e-01,\n",
              "         -4.03044969e-02, -2.09397867e-01,  2.87347138e-02,\n",
              "          2.30680257e-01, -1.64504886e-01,  6.97668195e-02,\n",
              "         -8.46497715e-03],\n",
              "        [ 7.85692334e-02,  3.04546952e-02, -1.08693853e-01,\n",
              "          9.96460915e-02, -6.63220733e-02, -2.26562127e-01,\n",
              "          2.29364365e-01, -1.09310925e-01, -2.99864560e-02,\n",
              "          1.14811361e-02],\n",
              "        [ 1.59692615e-02,  7.28714764e-02,  4.52170968e-02,\n",
              "          1.13099188e-01, -1.90429389e-03, -1.57950103e-01,\n",
              "         -1.51330784e-01, -2.09980160e-02, -5.25332391e-02,\n",
              "         -1.71531424e-01],\n",
              "        [ 1.35075659e-01,  1.29643589e-01,  1.29207432e-01,\n",
              "          2.45319605e-02, -1.50586635e-01,  9.78414714e-02,\n",
              "          1.67781144e-01, -3.39056849e-02,  1.89266890e-01,\n",
              "          2.19634384e-01],\n",
              "        [ 9.87609625e-02,  1.61654234e-01,  2.14064240e-01,\n",
              "         -1.29211932e-01,  7.55223334e-02, -3.18785012e-02,\n",
              "         -1.91591471e-01, -4.06583697e-02, -1.03496045e-01,\n",
              "          8.63267183e-02],\n",
              "        [ 1.20394558e-01, -6.98845387e-02, -1.83865905e-01,\n",
              "         -1.54295832e-01,  1.48193896e-01,  2.40282118e-02,\n",
              "          2.20386028e-01, -9.52007920e-02, -8.23165029e-02,\n",
              "         -3.01607549e-02],\n",
              "        [ 8.52749348e-02, -3.91932428e-02,  1.57921046e-01,\n",
              "         -1.76792741e-02, -9.53416675e-02,  2.24458456e-01,\n",
              "         -9.36103314e-02, -1.49163574e-01,  3.85200977e-03,\n",
              "         -1.37926251e-01],\n",
              "        [ 1.26917154e-01,  1.66606307e-01,  6.34559393e-02,\n",
              "          1.73961520e-01,  1.62359387e-01,  1.20302051e-01,\n",
              "         -3.89313102e-02,  2.12211102e-01,  2.32222378e-01,\n",
              "         -1.60991043e-01]], dtype=float32),\n",
              " array([0., 0., 0., 0., 0., 0., 0., 0., 0., 0.], dtype=float32)]"
            ]
          },
          "metadata": {
            "tags": []
          },
          "execution_count": 39
        }
      ]
    },
    {
      "cell_type": "code",
      "metadata": {
        "colab": {
          "base_uri": "https://localhost:8080/"
        },
        "id": "eIbWqEQcn9JF",
        "outputId": "44bd28bb-3720-4da2-80f8-b3b475fae7c0"
      },
      "source": [
        "type(lr.get_weights())"
      ],
      "execution_count": 43,
      "outputs": [
        {
          "output_type": "execute_result",
          "data": {
            "text/plain": [
              "list"
            ]
          },
          "metadata": {
            "tags": []
          },
          "execution_count": 43
        }
      ]
    },
    {
      "cell_type": "code",
      "metadata": {
        "id": "ORVDSc72GnGT"
      },
      "source": [
        "w,b = lr.get_weights()"
      ],
      "execution_count": 44,
      "outputs": []
    },
    {
      "cell_type": "code",
      "metadata": {
        "colab": {
          "base_uri": "https://localhost:8080/"
        },
        "id": "u3CMZDkWGysU",
        "outputId": "64627d29-9444-46ac-9d91-00c82c234543"
      },
      "source": [
        "w"
      ],
      "execution_count": 45,
      "outputs": [
        {
          "output_type": "execute_result",
          "data": {
            "text/plain": [
              "array([[ 2.79803872e-02,  1.39750302e-01, -1.53935507e-01,\n",
              "         1.36167079e-01, -5.08019328e-03, -6.12045676e-02,\n",
              "        -1.15456946e-01, -3.58818620e-02, -1.48445427e-01,\n",
              "         7.56172240e-02],\n",
              "       [-1.24301180e-01,  4.58120704e-02, -5.38421124e-02,\n",
              "        -1.66750014e-01, -1.66104436e-02, -4.94583249e-02,\n",
              "         1.84131294e-01,  1.34729743e-01,  1.79619193e-02,\n",
              "         2.08310544e-01],\n",
              "       [ 1.27104193e-01,  6.46945238e-02, -1.12654001e-01,\n",
              "         2.19965279e-02, -5.68454564e-02, -1.29043445e-01,\n",
              "         1.32795066e-01,  1.22822762e-01,  1.79104269e-01,\n",
              "        -2.14928657e-01],\n",
              "       [-2.97475308e-02, -3.19632441e-02, -9.67203677e-02,\n",
              "        -2.12595165e-01, -1.25169098e-01,  3.59705687e-02,\n",
              "         1.20805830e-01,  1.42591745e-01,  1.20939106e-01,\n",
              "         1.82546228e-01],\n",
              "       [-5.93993366e-02,  2.05371976e-02, -2.25001678e-01,\n",
              "        -1.36778697e-01,  7.67643452e-02, -2.27502331e-01,\n",
              "         1.91705346e-01, -1.58854455e-01, -1.53493047e-01,\n",
              "        -2.40421295e-02],\n",
              "       [-1.56325579e-01,  1.26185805e-01, -1.29039541e-01,\n",
              "        -2.28663430e-01, -8.63250941e-02, -2.90897489e-03,\n",
              "         1.01237506e-01,  1.14241242e-02,  6.82852268e-02,\n",
              "         1.60128355e-01],\n",
              "       [-8.07416886e-02,  3.04420590e-02,  2.53002644e-02,\n",
              "         3.34726870e-02, -8.02763551e-02, -8.36046189e-02,\n",
              "         1.16508514e-01,  1.45514458e-01,  1.88290477e-01,\n",
              "        -1.65127873e-01],\n",
              "       [-9.75521058e-02, -2.10674942e-01, -2.32112288e-01,\n",
              "         1.09724879e-01, -1.50333673e-01,  1.59225404e-01,\n",
              "         1.97261572e-02,  2.25206017e-02, -1.83530122e-01,\n",
              "         1.42485648e-02],\n",
              "       [ 1.12205923e-01,  3.26429009e-02, -2.20897600e-01,\n",
              "        -1.51625395e-01,  3.08235288e-02,  2.29152501e-01,\n",
              "        -1.40558034e-01, -6.49605840e-02,  1.57030284e-01,\n",
              "        -1.69301614e-01],\n",
              "       [ 1.67404115e-02,  1.49895847e-02,  1.15951955e-01,\n",
              "        -1.98092788e-01,  2.71908641e-02, -1.72396123e-01,\n",
              "        -5.57606518e-02,  1.99279994e-01, -1.29088372e-01,\n",
              "         1.18139178e-01],\n",
              "       [ 1.85520828e-01,  1.49609923e-01,  4.48763371e-03,\n",
              "        -3.76335233e-02,  9.37185884e-02,  4.68478203e-02,\n",
              "         1.44490063e-01,  2.10323036e-02, -4.41298932e-02,\n",
              "         2.26115942e-01],\n",
              "       [ 2.32006997e-01, -9.45805460e-02,  1.91216111e-01,\n",
              "        -2.12357163e-01,  9.51112509e-02,  7.71816075e-03,\n",
              "         2.04490066e-01, -1.41270444e-01,  1.22254550e-01,\n",
              "         8.70491266e-02],\n",
              "       [ 6.02905452e-02,  3.79036963e-02,  8.41201842e-03,\n",
              "         3.75913084e-02,  6.72200620e-02, -1.52839616e-01,\n",
              "         5.14744818e-02, -1.59559786e-01, -2.31645614e-01,\n",
              "        -1.15466118e-02],\n",
              "       [ 1.22630864e-01, -7.99443722e-02, -2.21380919e-01,\n",
              "         5.30781448e-02,  1.12094581e-02, -1.08145654e-01,\n",
              "        -2.37296373e-02, -1.53879941e-01, -4.86409664e-02,\n",
              "        -5.82235456e-02],\n",
              "       [-1.82625681e-01, -7.68941343e-02, -2.00727075e-01,\n",
              "        -1.28106192e-01,  1.77891999e-01,  1.74689174e-01,\n",
              "         9.84676480e-02, -2.18116984e-01,  4.37023640e-02,\n",
              "         1.28698140e-01],\n",
              "       [ 1.89813644e-01, -1.82218805e-01,  8.89220238e-02,\n",
              "         8.38436186e-02,  7.42771626e-02,  9.84303951e-02,\n",
              "         1.95748448e-01,  2.13170409e-01,  1.66314125e-01,\n",
              "         1.45423740e-01],\n",
              "       [-7.61920959e-02,  9.06244218e-02,  1.37188584e-01,\n",
              "        -1.76563740e-01, -1.44386619e-01,  7.16771185e-02,\n",
              "         1.25570923e-01,  8.56550038e-02,  1.11046612e-01,\n",
              "        -4.20063734e-03],\n",
              "       [ 1.52987510e-01,  1.65278494e-01,  9.21064615e-02,\n",
              "         2.85598338e-02, -2.22156420e-01,  2.32185453e-01,\n",
              "         2.33313382e-01, -8.64352882e-02,  1.68454230e-01,\n",
              "         1.29450202e-01],\n",
              "       [ 4.83989716e-02,  5.58003485e-02, -2.23168507e-01,\n",
              "        -1.75992996e-01,  1.68565005e-01, -7.71349072e-02,\n",
              "         1.16889924e-02,  1.30611807e-02,  7.89881945e-02,\n",
              "        -1.67269975e-01],\n",
              "       [ 3.03970575e-02,  1.82354748e-02, -1.14991494e-01,\n",
              "        -1.08669236e-01,  2.53820121e-02, -2.03139424e-01,\n",
              "         1.13601267e-01,  1.63281173e-01,  1.25572085e-02,\n",
              "        -1.22142591e-01],\n",
              "       [ 1.56480879e-01,  1.11758739e-01, -9.74719673e-02,\n",
              "        -1.42943859e-02, -8.34875703e-02,  4.15947139e-02,\n",
              "         3.34699750e-02,  1.05377555e-01, -1.21152326e-01,\n",
              "        -1.47429615e-01],\n",
              "       [-2.16212124e-02,  8.39800835e-02, -1.47715479e-01,\n",
              "         1.77458733e-01, -5.45489937e-02, -1.93176240e-01,\n",
              "        -2.25785136e-01,  1.87734216e-01,  2.45267749e-02,\n",
              "         7.80135393e-02],\n",
              "       [ 1.12076908e-01,  1.58678442e-01,  1.66678131e-02,\n",
              "        -2.19426632e-01, -2.33006001e-01, -9.29059982e-02,\n",
              "        -2.29397878e-01,  4.34751213e-02,  1.03302538e-01,\n",
              "         8.20995867e-03],\n",
              "       [-8.44832361e-02, -1.65444493e-01, -1.31293863e-01,\n",
              "        -7.01072067e-02,  4.36448455e-02,  4.49457467e-02,\n",
              "         1.43883228e-01, -1.73951328e-01,  1.47347212e-01,\n",
              "         6.98325336e-02],\n",
              "       [-1.22987740e-01,  6.21539652e-02,  2.06714302e-01,\n",
              "         2.21666753e-01, -2.26791829e-01, -8.77226740e-02,\n",
              "         3.51752341e-03, -1.68889344e-01,  4.66925800e-02,\n",
              "         1.44580990e-01],\n",
              "       [ 2.28649676e-01, -1.14727281e-01, -1.72663510e-01,\n",
              "        -6.92591071e-03, -4.38083261e-02, -1.40586793e-02,\n",
              "        -1.12616576e-01, -4.15727347e-02, -1.03563651e-01,\n",
              "         2.24383831e-01],\n",
              "       [ 1.60726666e-01,  6.48380816e-02,  2.20207125e-01,\n",
              "        -9.10287797e-02,  1.08987361e-01, -1.50700957e-01,\n",
              "         1.93209589e-01,  2.26329505e-01,  7.44337440e-02,\n",
              "         6.82807565e-02],\n",
              "       [-4.55516875e-02,  3.27320695e-02,  2.25803852e-01,\n",
              "        -1.33224636e-01, -2.15179056e-01, -1.09754205e-02,\n",
              "         2.81110704e-02,  1.70358479e-01, -1.38205409e-01,\n",
              "         1.77035302e-01],\n",
              "       [ 3.36359441e-02,  9.86403525e-02, -2.10542202e-01,\n",
              "         1.42167717e-01, -1.07154503e-01, -2.18755156e-02,\n",
              "         1.99101657e-01, -5.66272438e-02, -1.29902959e-02,\n",
              "         5.38317561e-02],\n",
              "       [-1.34124815e-01, -7.72944987e-02,  2.08246797e-01,\n",
              "         1.53017789e-01,  6.61728978e-02, -1.83064342e-01,\n",
              "         1.52842790e-01, -3.06911767e-02, -4.03510034e-03,\n",
              "         9.21844244e-02],\n",
              "       [-4.85961884e-02, -2.22829834e-01,  1.56685829e-01,\n",
              "         2.24408895e-01,  1.87820315e-01,  3.66854668e-02,\n",
              "         1.40012234e-01, -1.59009397e-02, -3.75802368e-02,\n",
              "         1.13312095e-01],\n",
              "       [-1.82097256e-01, -2.18444839e-01,  3.97526920e-02,\n",
              "        -1.19974419e-01,  6.89511895e-02,  3.09620798e-02,\n",
              "        -1.73791245e-01,  1.08266979e-01,  3.26757133e-03,\n",
              "        -7.74104893e-02],\n",
              "       [ 3.89064848e-03, -1.38571739e-01, -2.11104140e-01,\n",
              "         2.32805610e-01, -8.47907066e-02, -4.04912084e-02,\n",
              "        -1.31086439e-01,  2.01345384e-02, -9.56180841e-02,\n",
              "        -1.29642427e-01],\n",
              "       [ 1.24863356e-01, -1.01664871e-01,  5.00247777e-02,\n",
              "        -1.42230913e-01,  6.59194887e-02, -2.24987090e-01,\n",
              "        -1.81679249e-01,  1.51659578e-01, -2.17465103e-01,\n",
              "         3.36013138e-02],\n",
              "       [ 2.77509689e-02, -6.72080368e-02, -9.82204080e-02,\n",
              "         7.87511468e-02,  2.04654723e-01,  9.25917923e-02,\n",
              "        -1.41147777e-01, -2.07483381e-01,  3.61406207e-02,\n",
              "         1.63502336e-01],\n",
              "       [ 1.77753687e-01, -7.41416961e-02,  1.10126942e-01,\n",
              "         1.23593330e-01, -2.19208628e-01, -2.02322885e-01,\n",
              "         1.30499154e-01,  1.11495525e-01, -1.08725481e-01,\n",
              "         2.06924438e-01],\n",
              "       [-1.85838953e-01, -2.28420764e-01, -2.26847842e-01,\n",
              "        -9.78062302e-02, -3.84600163e-02,  1.37271315e-01,\n",
              "        -1.35094255e-01,  2.12523222e-01, -2.49877870e-02,\n",
              "         1.33135498e-01],\n",
              "       [-1.15903296e-01,  1.76003963e-01,  6.42259121e-02,\n",
              "        -4.82145399e-02, -1.78356558e-01, -3.95306796e-02,\n",
              "         6.53985143e-02, -7.78618455e-02,  2.28471607e-01,\n",
              "        -2.91345716e-02],\n",
              "       [ 7.84057677e-02,  1.53204232e-01,  8.36955011e-02,\n",
              "         1.92279428e-01, -5.73516190e-02,  6.68630302e-02,\n",
              "        -1.89045668e-02, -1.05249330e-01,  1.96311682e-01,\n",
              "         1.72849417e-01],\n",
              "       [ 1.83519661e-01, -2.16050535e-01,  1.32307410e-02,\n",
              "        -2.21437052e-01,  2.08627760e-01,  8.40560198e-02,\n",
              "        -2.11838096e-01, -1.83467433e-01, -1.62296802e-01,\n",
              "        -9.83321071e-02],\n",
              "       [ 1.80280119e-01, -2.13833928e-01,  1.06633037e-01,\n",
              "         1.18184268e-01,  1.67450726e-01,  8.84899199e-02,\n",
              "         1.02510005e-02,  2.55179405e-02,  2.19357252e-01,\n",
              "        -2.71880776e-02],\n",
              "       [ 1.73943043e-01, -1.50399327e-01, -1.15014546e-01,\n",
              "        -4.67413515e-02,  6.56086802e-02,  9.81045365e-02,\n",
              "         1.61612451e-01, -2.84890980e-02, -9.28046107e-02,\n",
              "         1.51902020e-01],\n",
              "       [-8.72912407e-02,  1.70214295e-01, -5.65638095e-02,\n",
              "        -5.60625046e-02,  8.70010257e-02,  2.84959376e-02,\n",
              "         7.59200156e-02, -4.08584923e-02,  1.01900399e-01,\n",
              "         4.39208746e-02],\n",
              "       [ 1.20986402e-01, -2.09120363e-02, -3.40282321e-02,\n",
              "        -6.73673451e-02, -7.73008168e-03,  1.23214751e-01,\n",
              "        -4.78959084e-03, -1.74614847e-01, -1.57940835e-02,\n",
              "        -2.33491719e-01],\n",
              "       [ 1.07163578e-01, -1.61703229e-01, -2.26362735e-01,\n",
              "         1.57041252e-01,  3.18629742e-02, -6.60971254e-02,\n",
              "         1.40427798e-01, -1.36026263e-01,  1.92905664e-02,\n",
              "        -1.65521771e-01],\n",
              "       [-9.16491449e-03, -4.54602689e-02,  2.32895315e-02,\n",
              "         1.22859955e-01,  7.61810243e-02,  1.18821859e-01,\n",
              "         1.81725949e-01,  4.66609001e-02,  1.63805187e-01,\n",
              "         1.00173414e-01],\n",
              "       [ 1.33872241e-01, -8.50941837e-02,  8.76178741e-02,\n",
              "         7.00926781e-03, -1.52166188e-01, -1.72046155e-01,\n",
              "        -2.31973305e-01,  4.62405384e-02,  6.73552752e-02,\n",
              "         1.13050789e-01],\n",
              "       [ 2.17841685e-01,  1.11466050e-01,  1.38020426e-01,\n",
              "        -2.20273450e-01,  2.10313737e-01,  1.57758504e-01,\n",
              "         8.90798867e-02,  1.25005454e-01, -9.35332030e-02,\n",
              "         1.17920399e-01],\n",
              "       [ 3.27615738e-02,  2.06147105e-01,  1.59622431e-02,\n",
              "         1.86227173e-01,  1.97568476e-01, -1.56523734e-02,\n",
              "         2.20159411e-01,  2.32723981e-01, -1.27367899e-01,\n",
              "         7.43695498e-02],\n",
              "       [ 7.35851526e-02,  3.06337178e-02, -2.03319550e-01,\n",
              "        -1.24657825e-01, -5.72450906e-02, -1.20133393e-01,\n",
              "         8.64687562e-02, -1.77005306e-01, -5.31535894e-02,\n",
              "         2.12930411e-01],\n",
              "       [ 1.12608522e-02, -1.53448284e-01,  1.80598617e-01,\n",
              "        -1.96578726e-01, -1.10898659e-01,  1.93356782e-01,\n",
              "         2.20106691e-01, -1.65608972e-01, -1.42702222e-01,\n",
              "         1.09291524e-02],\n",
              "       [ 2.27808028e-01,  6.65930808e-02,  1.46298200e-01,\n",
              "        -3.39351594e-03,  8.35999846e-02,  1.44818813e-01,\n",
              "        -7.99108595e-02, -2.09433272e-01,  2.13325024e-03,\n",
              "        -3.52388918e-02],\n",
              "       [-2.63200998e-02,  1.89412326e-01, -1.22798860e-01,\n",
              "         1.44817263e-01, -8.81441981e-02, -2.02670857e-01,\n",
              "        -1.36547774e-01, -1.05232015e-01, -2.14313194e-01,\n",
              "         5.94962239e-02],\n",
              "       [ 3.91086638e-02,  2.45211124e-02,  9.79980528e-02,\n",
              "        -6.65917546e-02,  1.02307826e-01, -3.21984291e-03,\n",
              "        -1.64776906e-01,  7.98220932e-02,  4.83256876e-02,\n",
              "         1.94331557e-01],\n",
              "       [-6.04193360e-02,  1.45016700e-01, -1.24192819e-01,\n",
              "         1.23004049e-01, -1.00942999e-02, -1.47673488e-01,\n",
              "         6.00599647e-02, -4.68872488e-02, -4.01407927e-02,\n",
              "        -1.01127371e-01],\n",
              "       [ 1.28923953e-01,  1.94493413e-01,  1.58754230e-01,\n",
              "         2.00760424e-01,  3.45500410e-02,  1.35907441e-01,\n",
              "         3.81292105e-02, -1.55315652e-01, -9.42930579e-04,\n",
              "         1.57413453e-01],\n",
              "       [ 3.97124887e-02,  1.24065369e-01,  2.27288634e-01,\n",
              "         8.69323611e-02,  2.31734723e-01,  1.92199856e-01,\n",
              "        -1.65608689e-01,  1.54161125e-01,  9.00717080e-02,\n",
              "        -7.51777738e-02],\n",
              "       [ 2.14863956e-01, -2.13585421e-01,  1.37388587e-01,\n",
              "        -1.54120818e-01, -6.65663034e-02, -1.18021965e-01,\n",
              "         2.03173608e-01, -1.94600776e-01,  8.18689466e-02,\n",
              "        -5.74153662e-02],\n",
              "       [-4.87737060e-02, -3.44257057e-02,  2.25090444e-01,\n",
              "         8.03305209e-02, -1.54918849e-01,  1.53865963e-01,\n",
              "        -2.04762235e-01, -1.29766971e-01,  2.30425894e-01,\n",
              "        -1.48498446e-01],\n",
              "       [-1.00306377e-01,  1.78618193e-01, -1.06615216e-01,\n",
              "         2.27809548e-01,  1.76002413e-01, -1.99582368e-01,\n",
              "        -2.12631464e-01, -1.51741207e-02,  1.72567219e-01,\n",
              "         2.02533990e-01],\n",
              "       [-5.44423610e-02, -1.52964741e-01,  8.63861740e-02,\n",
              "        -4.83814776e-02, -1.92176744e-01,  1.31144226e-02,\n",
              "        -1.26711518e-01,  8.75195563e-02,  1.19526535e-02,\n",
              "         7.95374513e-02],\n",
              "       [-6.04858249e-02, -1.98122084e-01,  1.07136399e-01,\n",
              "         1.12720996e-01, -1.48521602e-01,  5.86369336e-02,\n",
              "        -5.83529025e-02,  5.61776459e-02,  8.25022161e-02,\n",
              "         1.27694637e-01],\n",
              "       [-1.79790094e-01, -6.89534843e-03, -1.80205882e-01,\n",
              "         2.02613324e-01,  1.52036011e-01, -9.55092758e-02,\n",
              "         1.30552709e-01, -1.86661661e-01,  2.76074708e-02,\n",
              "        -1.91218168e-01],\n",
              "       [ 1.88269615e-01,  1.54733896e-01,  1.17876351e-01,\n",
              "         2.71595120e-02, -1.08026937e-01,  8.60913396e-02,\n",
              "        -2.08283260e-01, -1.62034214e-01,  9.64745879e-02,\n",
              "        -1.61328435e-01],\n",
              "       [ 1.23414397e-03, -4.07335907e-02,  7.50656426e-02,\n",
              "         1.92580998e-01,  1.05741113e-01,  1.63423777e-01,\n",
              "         9.88036692e-02,  1.36649281e-01,  2.06398189e-01,\n",
              "         7.89767802e-02],\n",
              "       [ 2.07810700e-01,  1.28592908e-01,  1.09158397e-01,\n",
              "         3.18159163e-02,  1.70977443e-01, -8.63745958e-02,\n",
              "        -1.53979838e-01,  1.04574114e-02,  5.47754765e-03,\n",
              "        -1.65780753e-01],\n",
              "       [ 1.93587512e-01, -8.88730288e-02, -1.56524971e-01,\n",
              "        -8.58291984e-03, -2.03347787e-01, -3.60018462e-02,\n",
              "         1.94575220e-01, -1.25300407e-01, -4.04543430e-02,\n",
              "         9.61147249e-02],\n",
              "       [ 1.58284754e-01, -1.15127712e-02,  1.77403271e-01,\n",
              "        -1.84857249e-02,  1.38696134e-01,  1.46834850e-01,\n",
              "        -6.51060790e-02, -6.81890100e-02, -2.22046331e-01,\n",
              "         1.74112380e-01],\n",
              "       [-1.59338892e-01,  7.81256258e-02, -5.00053614e-02,\n",
              "         1.48023069e-01,  1.40132457e-02,  8.20933878e-02,\n",
              "         1.81542337e-03,  1.74950063e-01,  8.63479972e-02,\n",
              "         7.65836239e-03],\n",
              "       [ 1.81639373e-01,  1.23191655e-01, -1.65414035e-01,\n",
              "         6.06597662e-02,  3.00436616e-02, -2.00131670e-01,\n",
              "         1.34088129e-01, -1.90858245e-01, -3.39574069e-02,\n",
              "         1.73007399e-01],\n",
              "       [ 8.05327892e-02, -1.00311667e-01, -1.88360989e-01,\n",
              "         1.25676811e-01, -4.02700901e-02, -1.58480927e-01,\n",
              "        -1.19235903e-01, -2.46682167e-02,  2.24035919e-01,\n",
              "        -1.26114368e-01],\n",
              "       [ 1.18430734e-01, -1.00477606e-01, -1.80065453e-01,\n",
              "         5.69034219e-02, -1.19614601e-01, -1.92419186e-01,\n",
              "        -7.64709562e-02, -5.65043539e-02, -9.69813466e-02,\n",
              "         7.95867741e-02],\n",
              "       [-8.59678388e-02,  1.03904158e-01,  1.10340446e-01,\n",
              "        -8.03456306e-02, -2.22700268e-01, -7.33633637e-02,\n",
              "        -7.60710388e-02,  1.92269176e-01,  7.37699866e-03,\n",
              "         1.26717985e-01],\n",
              "       [ 1.15726799e-01, -1.68862283e-01, -2.21829608e-01,\n",
              "         1.38169825e-01, -2.08605498e-01,  1.60057068e-01,\n",
              "         1.40587598e-01,  1.78624541e-01, -7.36411661e-02,\n",
              "         5.05681336e-03],\n",
              "       [ 1.34670377e-01,  6.88662827e-02, -2.13051587e-01,\n",
              "        -1.20962061e-01,  1.97686553e-02, -2.00231060e-01,\n",
              "         3.89998555e-02,  6.44313097e-02,  1.01479232e-01,\n",
              "         1.26068980e-01],\n",
              "       [-4.11263704e-02,  5.03097177e-02,  1.89685673e-01,\n",
              "        -9.73940194e-02,  9.09292102e-02,  2.20633149e-01,\n",
              "        -4.81052399e-02, -1.21580750e-01, -1.52049705e-01,\n",
              "        -1.30390227e-01],\n",
              "       [-1.89170241e-03, -7.36391544e-02, -5.98782152e-02,\n",
              "        -3.76863033e-02, -1.97890669e-01,  1.58461541e-01,\n",
              "        -2.04608604e-01, -1.18466146e-01,  7.88971782e-04,\n",
              "        -1.46239549e-01],\n",
              "       [ 4.97123599e-03,  8.83049965e-02, -1.59485638e-03,\n",
              "         1.13287508e-01,  8.92399848e-02,  1.91247612e-01,\n",
              "        -2.08716094e-02, -2.14337468e-01, -1.20621227e-01,\n",
              "         2.21928388e-01],\n",
              "       [-1.81087106e-01, -2.07205638e-01, -6.75665885e-02,\n",
              "        -1.88083947e-03,  3.45330536e-02,  2.61046588e-02,\n",
              "         6.78252876e-02, -1.23379827e-02, -1.10149674e-01,\n",
              "        -5.22283763e-02],\n",
              "       [-1.27915025e-01, -1.46384835e-01,  6.67342842e-02,\n",
              "        -1.14606895e-01,  1.54162019e-01,  1.68865740e-01,\n",
              "        -6.45725876e-02, -1.46991163e-01, -1.33533806e-01,\n",
              "        -1.93140894e-01],\n",
              "       [-2.42623538e-02, -8.47930461e-02, -3.62614989e-02,\n",
              "         6.26963079e-02,  7.80200958e-02, -2.22136647e-01,\n",
              "        -4.49596196e-02,  4.03776765e-03, -1.20126262e-01,\n",
              "        -3.64207029e-02],\n",
              "       [ 6.28507733e-02,  1.76562458e-01,  6.39013946e-02,\n",
              "        -1.84994519e-01, -6.73088878e-02, -7.11655766e-02,\n",
              "        -1.54546902e-01,  3.99618447e-02,  1.75206482e-01,\n",
              "         8.57996643e-02],\n",
              "       [ 1.96877539e-01, -2.07048833e-01, -2.32256785e-01,\n",
              "        -9.96269435e-02,  1.62817925e-01, -4.12744880e-02,\n",
              "        -4.65875566e-02,  1.82172865e-01, -1.20628916e-01,\n",
              "         1.71221375e-01],\n",
              "       [ 1.17428839e-01, -1.36971742e-01, -9.18528736e-02,\n",
              "        -1.85070038e-02, -2.52019912e-02, -1.65194467e-01,\n",
              "        -3.62691283e-02, -2.32170090e-01,  6.44637942e-02,\n",
              "         1.23268098e-01],\n",
              "       [-1.88139424e-01, -9.46806669e-02, -9.95686501e-02,\n",
              "        -3.60163301e-02,  1.11989319e-01,  9.30349529e-03,\n",
              "        -1.00453496e-01,  1.85512602e-01, -5.04884571e-02,\n",
              "        -1.06346726e-01],\n",
              "       [-1.55423462e-01, -1.17401324e-01, -4.56079841e-02,\n",
              "        -1.84824586e-01,  2.28895515e-01, -1.40045047e-01,\n",
              "         1.33500934e-01, -1.02444321e-01, -9.56550539e-02,\n",
              "         1.21431500e-02],\n",
              "       [ 2.18454421e-01,  1.36979997e-01, -1.09545402e-01,\n",
              "        -1.94069505e-01,  5.78507483e-02,  1.71415269e-01,\n",
              "        -1.68472782e-01,  9.09241438e-02,  1.75436676e-01,\n",
              "        -1.87604532e-01],\n",
              "       [ 5.62607944e-02,  1.17885590e-01, -1.65521547e-01,\n",
              "         6.10423088e-02,  2.09689140e-03, -1.40433937e-01,\n",
              "         1.08267486e-01,  1.25068665e-01, -2.09448338e-02,\n",
              "        -1.00048572e-01],\n",
              "       [ 1.56321883e-01, -5.45879751e-02,  3.34190130e-02,\n",
              "        -7.80238360e-02, -2.05972105e-01, -3.19614708e-02,\n",
              "         8.03550780e-02,  8.10252726e-02, -2.96532661e-02,\n",
              "         1.38533145e-01],\n",
              "       [ 1.27330154e-01,  1.83703870e-01, -1.75308377e-01,\n",
              "         1.19053930e-01, -1.42202184e-01, -3.00555080e-02,\n",
              "        -1.78223863e-01,  1.87983185e-01, -1.56087473e-01,\n",
              "         2.49030292e-02],\n",
              "       [-1.44435734e-01, -2.26056919e-01, -1.22924820e-01,\n",
              "         9.69156623e-02,  8.65202546e-02, -1.30699933e-01,\n",
              "         3.83874476e-02,  4.19996977e-02,  5.50511479e-02,\n",
              "         6.60444498e-02],\n",
              "       [-3.20633650e-02,  3.92723083e-03,  4.66091037e-02,\n",
              "         2.23457813e-04,  1.21164232e-01,  8.87535810e-02,\n",
              "        -1.91721648e-01,  1.07482523e-01, -2.12001577e-01,\n",
              "         9.57674682e-02],\n",
              "       [ 3.89610529e-02, -1.64496601e-01,  1.83513880e-01,\n",
              "        -4.03044969e-02, -2.09397867e-01,  2.87347138e-02,\n",
              "         2.30680257e-01, -1.64504886e-01,  6.97668195e-02,\n",
              "        -8.46497715e-03],\n",
              "       [ 7.85692334e-02,  3.04546952e-02, -1.08693853e-01,\n",
              "         9.96460915e-02, -6.63220733e-02, -2.26562127e-01,\n",
              "         2.29364365e-01, -1.09310925e-01, -2.99864560e-02,\n",
              "         1.14811361e-02],\n",
              "       [ 1.59692615e-02,  7.28714764e-02,  4.52170968e-02,\n",
              "         1.13099188e-01, -1.90429389e-03, -1.57950103e-01,\n",
              "        -1.51330784e-01, -2.09980160e-02, -5.25332391e-02,\n",
              "        -1.71531424e-01],\n",
              "       [ 1.35075659e-01,  1.29643589e-01,  1.29207432e-01,\n",
              "         2.45319605e-02, -1.50586635e-01,  9.78414714e-02,\n",
              "         1.67781144e-01, -3.39056849e-02,  1.89266890e-01,\n",
              "         2.19634384e-01],\n",
              "       [ 9.87609625e-02,  1.61654234e-01,  2.14064240e-01,\n",
              "        -1.29211932e-01,  7.55223334e-02, -3.18785012e-02,\n",
              "        -1.91591471e-01, -4.06583697e-02, -1.03496045e-01,\n",
              "         8.63267183e-02],\n",
              "       [ 1.20394558e-01, -6.98845387e-02, -1.83865905e-01,\n",
              "        -1.54295832e-01,  1.48193896e-01,  2.40282118e-02,\n",
              "         2.20386028e-01, -9.52007920e-02, -8.23165029e-02,\n",
              "        -3.01607549e-02],\n",
              "       [ 8.52749348e-02, -3.91932428e-02,  1.57921046e-01,\n",
              "        -1.76792741e-02, -9.53416675e-02,  2.24458456e-01,\n",
              "        -9.36103314e-02, -1.49163574e-01,  3.85200977e-03,\n",
              "        -1.37926251e-01],\n",
              "       [ 1.26917154e-01,  1.66606307e-01,  6.34559393e-02,\n",
              "         1.73961520e-01,  1.62359387e-01,  1.20302051e-01,\n",
              "        -3.89313102e-02,  2.12211102e-01,  2.32222378e-01,\n",
              "        -1.60991043e-01]], dtype=float32)"
            ]
          },
          "metadata": {
            "tags": []
          },
          "execution_count": 45
        }
      ]
    },
    {
      "cell_type": "code",
      "metadata": {
        "colab": {
          "base_uri": "https://localhost:8080/"
        },
        "id": "-mUJUweEG0hd",
        "outputId": "8e704b20-412f-414c-c6f7-5cebcbde6d94"
      },
      "source": [
        "b"
      ],
      "execution_count": 46,
      "outputs": [
        {
          "output_type": "execute_result",
          "data": {
            "text/plain": [
              "array([0., 0., 0., 0., 0., 0., 0., 0., 0., 0.], dtype=float32)"
            ]
          },
          "metadata": {
            "tags": []
          },
          "execution_count": 46
        }
      ]
    },
    {
      "cell_type": "code",
      "metadata": {
        "id": "toEBUr3AG3VB"
      },
      "source": [
        "LOSS_FUNCTION=\"sparse_categorical_crossentropy\"\n",
        "OPTIMIZER=\"SGD\"\n",
        "METRICS=['accuracy']\n",
        "\n",
        "model_clf.compile(loss=LOSS_FUNCTION,optimizer=OPTIMIZER,metrics=METRICS)"
      ],
      "execution_count": 47,
      "outputs": []
    },
    {
      "cell_type": "code",
      "metadata": {
        "colab": {
          "base_uri": "https://localhost:8080/"
        },
        "id": "FYg-h-QoH3iq",
        "outputId": "c39fc9f8-f888-4dfe-d965-ca43db197a2b"
      },
      "source": [
        "EPOCHS=50\n",
        "VALIDATION_SET=(X_valid,y_valid)\n",
        "\n",
        "history = model_clf.fit(X_train,y_train,epochs=EPOCHS,validation_data=VALIDATION_SET)\n"
      ],
      "execution_count": 65,
      "outputs": [
        {
          "output_type": "stream",
          "text": [
            "Epoch 1/50\n",
            "1719/1719 [==============================] - 5s 3ms/step - loss: 0.0064 - accuracy: 0.9997 - val_loss: 0.0693 - val_accuracy: 0.9794\n",
            "Epoch 2/50\n",
            "1719/1719 [==============================] - 5s 3ms/step - loss: 0.0061 - accuracy: 0.9997 - val_loss: 0.0689 - val_accuracy: 0.9804\n",
            "Epoch 3/50\n",
            "1719/1719 [==============================] - 5s 3ms/step - loss: 0.0059 - accuracy: 0.9997 - val_loss: 0.0699 - val_accuracy: 0.9806\n",
            "Epoch 4/50\n",
            "1719/1719 [==============================] - 5s 3ms/step - loss: 0.0057 - accuracy: 0.9997 - val_loss: 0.0693 - val_accuracy: 0.9808\n",
            "Epoch 5/50\n",
            "1719/1719 [==============================] - 5s 3ms/step - loss: 0.0055 - accuracy: 0.9998 - val_loss: 0.0698 - val_accuracy: 0.9808\n",
            "Epoch 6/50\n",
            "1719/1719 [==============================] - 5s 3ms/step - loss: 0.0053 - accuracy: 0.9998 - val_loss: 0.0694 - val_accuracy: 0.9808\n",
            "Epoch 7/50\n",
            "1719/1719 [==============================] - 5s 3ms/step - loss: 0.0051 - accuracy: 0.9998 - val_loss: 0.0697 - val_accuracy: 0.9808\n",
            "Epoch 8/50\n",
            "1719/1719 [==============================] - 5s 3ms/step - loss: 0.0050 - accuracy: 0.9998 - val_loss: 0.0699 - val_accuracy: 0.9808\n",
            "Epoch 9/50\n",
            "1719/1719 [==============================] - 5s 3ms/step - loss: 0.0048 - accuracy: 0.9998 - val_loss: 0.0698 - val_accuracy: 0.9790\n",
            "Epoch 10/50\n",
            "1719/1719 [==============================] - 5s 3ms/step - loss: 0.0046 - accuracy: 0.9999 - val_loss: 0.0697 - val_accuracy: 0.9804\n",
            "Epoch 11/50\n",
            "1719/1719 [==============================] - 5s 3ms/step - loss: 0.0045 - accuracy: 0.9999 - val_loss: 0.0708 - val_accuracy: 0.9794\n",
            "Epoch 12/50\n",
            "1719/1719 [==============================] - 5s 3ms/step - loss: 0.0043 - accuracy: 0.9999 - val_loss: 0.0698 - val_accuracy: 0.9804\n",
            "Epoch 13/50\n",
            "1719/1719 [==============================] - 5s 3ms/step - loss: 0.0042 - accuracy: 0.9999 - val_loss: 0.0704 - val_accuracy: 0.9804\n",
            "Epoch 14/50\n",
            "1719/1719 [==============================] - 5s 3ms/step - loss: 0.0041 - accuracy: 0.9999 - val_loss: 0.0703 - val_accuracy: 0.9804\n",
            "Epoch 15/50\n",
            "1719/1719 [==============================] - 5s 3ms/step - loss: 0.0039 - accuracy: 0.9999 - val_loss: 0.0705 - val_accuracy: 0.9802\n",
            "Epoch 16/50\n",
            "1719/1719 [==============================] - 5s 3ms/step - loss: 0.0038 - accuracy: 0.9999 - val_loss: 0.0709 - val_accuracy: 0.9802\n",
            "Epoch 17/50\n",
            "1719/1719 [==============================] - 5s 3ms/step - loss: 0.0037 - accuracy: 1.0000 - val_loss: 0.0700 - val_accuracy: 0.9812\n",
            "Epoch 18/50\n",
            "1719/1719 [==============================] - 5s 3ms/step - loss: 0.0036 - accuracy: 0.9999 - val_loss: 0.0708 - val_accuracy: 0.9806\n",
            "Epoch 19/50\n",
            "1719/1719 [==============================] - 5s 3ms/step - loss: 0.0035 - accuracy: 0.9999 - val_loss: 0.0704 - val_accuracy: 0.9812\n",
            "Epoch 20/50\n",
            "1719/1719 [==============================] - 5s 3ms/step - loss: 0.0034 - accuracy: 1.0000 - val_loss: 0.0712 - val_accuracy: 0.9800\n",
            "Epoch 21/50\n",
            "1719/1719 [==============================] - 5s 3ms/step - loss: 0.0033 - accuracy: 1.0000 - val_loss: 0.0712 - val_accuracy: 0.9810\n",
            "Epoch 22/50\n",
            "1719/1719 [==============================] - 5s 3ms/step - loss: 0.0032 - accuracy: 1.0000 - val_loss: 0.0712 - val_accuracy: 0.9810\n",
            "Epoch 23/50\n",
            "1719/1719 [==============================] - 5s 3ms/step - loss: 0.0031 - accuracy: 1.0000 - val_loss: 0.0710 - val_accuracy: 0.9812\n",
            "Epoch 24/50\n",
            "1719/1719 [==============================] - 5s 3ms/step - loss: 0.0030 - accuracy: 1.0000 - val_loss: 0.0714 - val_accuracy: 0.9804\n",
            "Epoch 25/50\n",
            "1719/1719 [==============================] - 5s 3ms/step - loss: 0.0029 - accuracy: 1.0000 - val_loss: 0.0720 - val_accuracy: 0.9806\n",
            "Epoch 26/50\n",
            "1719/1719 [==============================] - 5s 3ms/step - loss: 0.0029 - accuracy: 1.0000 - val_loss: 0.0725 - val_accuracy: 0.9806\n",
            "Epoch 27/50\n",
            "1719/1719 [==============================] - 5s 3ms/step - loss: 0.0028 - accuracy: 1.0000 - val_loss: 0.0712 - val_accuracy: 0.9806\n",
            "Epoch 28/50\n",
            "1719/1719 [==============================] - 5s 3ms/step - loss: 0.0027 - accuracy: 1.0000 - val_loss: 0.0723 - val_accuracy: 0.9804\n",
            "Epoch 29/50\n",
            "1719/1719 [==============================] - 5s 3ms/step - loss: 0.0027 - accuracy: 1.0000 - val_loss: 0.0728 - val_accuracy: 0.9798\n",
            "Epoch 30/50\n",
            "1719/1719 [==============================] - 5s 3ms/step - loss: 0.0026 - accuracy: 1.0000 - val_loss: 0.0719 - val_accuracy: 0.9814\n",
            "Epoch 31/50\n",
            "1719/1719 [==============================] - 5s 3ms/step - loss: 0.0025 - accuracy: 1.0000 - val_loss: 0.0726 - val_accuracy: 0.9806\n",
            "Epoch 32/50\n",
            "1719/1719 [==============================] - 5s 3ms/step - loss: 0.0025 - accuracy: 1.0000 - val_loss: 0.0722 - val_accuracy: 0.9814\n",
            "Epoch 33/50\n",
            "1719/1719 [==============================] - 5s 3ms/step - loss: 0.0024 - accuracy: 1.0000 - val_loss: 0.0727 - val_accuracy: 0.9810\n",
            "Epoch 34/50\n",
            "1719/1719 [==============================] - 5s 3ms/step - loss: 0.0024 - accuracy: 1.0000 - val_loss: 0.0728 - val_accuracy: 0.9808\n",
            "Epoch 35/50\n",
            "1719/1719 [==============================] - 5s 3ms/step - loss: 0.0023 - accuracy: 1.0000 - val_loss: 0.0728 - val_accuracy: 0.9806\n",
            "Epoch 36/50\n",
            "1719/1719 [==============================] - 5s 3ms/step - loss: 0.0023 - accuracy: 1.0000 - val_loss: 0.0730 - val_accuracy: 0.9812\n",
            "Epoch 37/50\n",
            "1719/1719 [==============================] - 5s 3ms/step - loss: 0.0022 - accuracy: 1.0000 - val_loss: 0.0736 - val_accuracy: 0.9810\n",
            "Epoch 38/50\n",
            "1719/1719 [==============================] - 5s 3ms/step - loss: 0.0022 - accuracy: 1.0000 - val_loss: 0.0735 - val_accuracy: 0.9810\n",
            "Epoch 39/50\n",
            "1719/1719 [==============================] - 5s 3ms/step - loss: 0.0021 - accuracy: 1.0000 - val_loss: 0.0734 - val_accuracy: 0.9814\n",
            "Epoch 40/50\n",
            "1719/1719 [==============================] - 5s 3ms/step - loss: 0.0021 - accuracy: 1.0000 - val_loss: 0.0732 - val_accuracy: 0.9810\n",
            "Epoch 41/50\n",
            "1719/1719 [==============================] - 6s 4ms/step - loss: 0.0020 - accuracy: 1.0000 - val_loss: 0.0732 - val_accuracy: 0.9808\n",
            "Epoch 42/50\n",
            "1719/1719 [==============================] - 5s 3ms/step - loss: 0.0020 - accuracy: 1.0000 - val_loss: 0.0740 - val_accuracy: 0.9814\n",
            "Epoch 43/50\n",
            "1719/1719 [==============================] - 5s 3ms/step - loss: 0.0020 - accuracy: 1.0000 - val_loss: 0.0737 - val_accuracy: 0.9812\n",
            "Epoch 44/50\n",
            "1719/1719 [==============================] - 5s 3ms/step - loss: 0.0019 - accuracy: 1.0000 - val_loss: 0.0732 - val_accuracy: 0.9806\n",
            "Epoch 45/50\n",
            "1719/1719 [==============================] - 5s 3ms/step - loss: 0.0019 - accuracy: 1.0000 - val_loss: 0.0736 - val_accuracy: 0.9808\n",
            "Epoch 46/50\n",
            "1719/1719 [==============================] - 5s 3ms/step - loss: 0.0019 - accuracy: 1.0000 - val_loss: 0.0741 - val_accuracy: 0.9808\n",
            "Epoch 47/50\n",
            "1719/1719 [==============================] - 5s 3ms/step - loss: 0.0018 - accuracy: 1.0000 - val_loss: 0.0739 - val_accuracy: 0.9810\n",
            "Epoch 48/50\n",
            "1719/1719 [==============================] - 5s 3ms/step - loss: 0.0018 - accuracy: 1.0000 - val_loss: 0.0738 - val_accuracy: 0.9812\n",
            "Epoch 49/50\n",
            "1719/1719 [==============================] - 5s 3ms/step - loss: 0.0018 - accuracy: 1.0000 - val_loss: 0.0740 - val_accuracy: 0.9812\n",
            "Epoch 50/50\n",
            "1719/1719 [==============================] - 5s 3ms/step - loss: 0.0017 - accuracy: 1.0000 - val_loss: 0.0744 - val_accuracy: 0.9808\n"
          ],
          "name": "stdout"
        }
      ]
    },
    {
      "cell_type": "code",
      "metadata": {
        "colab": {
          "base_uri": "https://localhost:8080/"
        },
        "id": "YOvrJBnHSZlj",
        "outputId": "15f6ad0d-f74d-4f84-c85d-1bdb36874b02"
      },
      "source": [
        "history.params"
      ],
      "execution_count": 66,
      "outputs": [
        {
          "output_type": "execute_result",
          "data": {
            "text/plain": [
              "{'epochs': 50, 'steps': 1719, 'verbose': 1}"
            ]
          },
          "metadata": {
            "tags": []
          },
          "execution_count": 66
        }
      ]
    },
    {
      "cell_type": "code",
      "metadata": {
        "id": "YpW84izfTEVK",
        "outputId": "6f9fecbb-f7a0-42ec-e16b-307f3dc8bc7c",
        "colab": {
          "base_uri": "https://localhost:8080/",
          "height": 1000
        }
      },
      "source": [
        "pd.DataFrame(history.history)"
      ],
      "execution_count": 67,
      "outputs": [
        {
          "output_type": "execute_result",
          "data": {
            "text/html": [
              "<div>\n",
              "<style scoped>\n",
              "    .dataframe tbody tr th:only-of-type {\n",
              "        vertical-align: middle;\n",
              "    }\n",
              "\n",
              "    .dataframe tbody tr th {\n",
              "        vertical-align: top;\n",
              "    }\n",
              "\n",
              "    .dataframe thead th {\n",
              "        text-align: right;\n",
              "    }\n",
              "</style>\n",
              "<table border=\"1\" class=\"dataframe\">\n",
              "  <thead>\n",
              "    <tr style=\"text-align: right;\">\n",
              "      <th></th>\n",
              "      <th>loss</th>\n",
              "      <th>accuracy</th>\n",
              "      <th>val_loss</th>\n",
              "      <th>val_accuracy</th>\n",
              "    </tr>\n",
              "  </thead>\n",
              "  <tbody>\n",
              "    <tr>\n",
              "      <th>0</th>\n",
              "      <td>0.006406</td>\n",
              "      <td>0.999673</td>\n",
              "      <td>0.069276</td>\n",
              "      <td>0.9794</td>\n",
              "    </tr>\n",
              "    <tr>\n",
              "      <th>1</th>\n",
              "      <td>0.006137</td>\n",
              "      <td>0.999727</td>\n",
              "      <td>0.068875</td>\n",
              "      <td>0.9804</td>\n",
              "    </tr>\n",
              "    <tr>\n",
              "      <th>2</th>\n",
              "      <td>0.005918</td>\n",
              "      <td>0.999709</td>\n",
              "      <td>0.069931</td>\n",
              "      <td>0.9806</td>\n",
              "    </tr>\n",
              "    <tr>\n",
              "      <th>3</th>\n",
              "      <td>0.005730</td>\n",
              "      <td>0.999709</td>\n",
              "      <td>0.069250</td>\n",
              "      <td>0.9808</td>\n",
              "    </tr>\n",
              "    <tr>\n",
              "      <th>4</th>\n",
              "      <td>0.005488</td>\n",
              "      <td>0.999836</td>\n",
              "      <td>0.069771</td>\n",
              "      <td>0.9808</td>\n",
              "    </tr>\n",
              "    <tr>\n",
              "      <th>5</th>\n",
              "      <td>0.005309</td>\n",
              "      <td>0.999800</td>\n",
              "      <td>0.069387</td>\n",
              "      <td>0.9808</td>\n",
              "    </tr>\n",
              "    <tr>\n",
              "      <th>6</th>\n",
              "      <td>0.005115</td>\n",
              "      <td>0.999800</td>\n",
              "      <td>0.069663</td>\n",
              "      <td>0.9808</td>\n",
              "    </tr>\n",
              "    <tr>\n",
              "      <th>7</th>\n",
              "      <td>0.004952</td>\n",
              "      <td>0.999800</td>\n",
              "      <td>0.069857</td>\n",
              "      <td>0.9808</td>\n",
              "    </tr>\n",
              "    <tr>\n",
              "      <th>8</th>\n",
              "      <td>0.004757</td>\n",
              "      <td>0.999836</td>\n",
              "      <td>0.069756</td>\n",
              "      <td>0.9790</td>\n",
              "    </tr>\n",
              "    <tr>\n",
              "      <th>9</th>\n",
              "      <td>0.004612</td>\n",
              "      <td>0.999873</td>\n",
              "      <td>0.069709</td>\n",
              "      <td>0.9804</td>\n",
              "    </tr>\n",
              "    <tr>\n",
              "      <th>10</th>\n",
              "      <td>0.004469</td>\n",
              "      <td>0.999909</td>\n",
              "      <td>0.070776</td>\n",
              "      <td>0.9794</td>\n",
              "    </tr>\n",
              "    <tr>\n",
              "      <th>11</th>\n",
              "      <td>0.004322</td>\n",
              "      <td>0.999927</td>\n",
              "      <td>0.069845</td>\n",
              "      <td>0.9804</td>\n",
              "    </tr>\n",
              "    <tr>\n",
              "      <th>12</th>\n",
              "      <td>0.004177</td>\n",
              "      <td>0.999909</td>\n",
              "      <td>0.070414</td>\n",
              "      <td>0.9804</td>\n",
              "    </tr>\n",
              "    <tr>\n",
              "      <th>13</th>\n",
              "      <td>0.004056</td>\n",
              "      <td>0.999945</td>\n",
              "      <td>0.070285</td>\n",
              "      <td>0.9804</td>\n",
              "    </tr>\n",
              "    <tr>\n",
              "      <th>14</th>\n",
              "      <td>0.003914</td>\n",
              "      <td>0.999909</td>\n",
              "      <td>0.070546</td>\n",
              "      <td>0.9802</td>\n",
              "    </tr>\n",
              "    <tr>\n",
              "      <th>15</th>\n",
              "      <td>0.003809</td>\n",
              "      <td>0.999927</td>\n",
              "      <td>0.070868</td>\n",
              "      <td>0.9802</td>\n",
              "    </tr>\n",
              "    <tr>\n",
              "      <th>16</th>\n",
              "      <td>0.003692</td>\n",
              "      <td>0.999964</td>\n",
              "      <td>0.069979</td>\n",
              "      <td>0.9812</td>\n",
              "    </tr>\n",
              "    <tr>\n",
              "      <th>17</th>\n",
              "      <td>0.003570</td>\n",
              "      <td>0.999945</td>\n",
              "      <td>0.070814</td>\n",
              "      <td>0.9806</td>\n",
              "    </tr>\n",
              "    <tr>\n",
              "      <th>18</th>\n",
              "      <td>0.003466</td>\n",
              "      <td>0.999945</td>\n",
              "      <td>0.070396</td>\n",
              "      <td>0.9812</td>\n",
              "    </tr>\n",
              "    <tr>\n",
              "      <th>19</th>\n",
              "      <td>0.003387</td>\n",
              "      <td>0.999964</td>\n",
              "      <td>0.071158</td>\n",
              "      <td>0.9800</td>\n",
              "    </tr>\n",
              "    <tr>\n",
              "      <th>20</th>\n",
              "      <td>0.003287</td>\n",
              "      <td>0.999964</td>\n",
              "      <td>0.071213</td>\n",
              "      <td>0.9810</td>\n",
              "    </tr>\n",
              "    <tr>\n",
              "      <th>21</th>\n",
              "      <td>0.003180</td>\n",
              "      <td>0.999982</td>\n",
              "      <td>0.071214</td>\n",
              "      <td>0.9810</td>\n",
              "    </tr>\n",
              "    <tr>\n",
              "      <th>22</th>\n",
              "      <td>0.003111</td>\n",
              "      <td>0.999964</td>\n",
              "      <td>0.070978</td>\n",
              "      <td>0.9812</td>\n",
              "    </tr>\n",
              "    <tr>\n",
              "      <th>23</th>\n",
              "      <td>0.003024</td>\n",
              "      <td>0.999964</td>\n",
              "      <td>0.071422</td>\n",
              "      <td>0.9804</td>\n",
              "    </tr>\n",
              "    <tr>\n",
              "      <th>24</th>\n",
              "      <td>0.002938</td>\n",
              "      <td>0.999964</td>\n",
              "      <td>0.071981</td>\n",
              "      <td>0.9806</td>\n",
              "    </tr>\n",
              "    <tr>\n",
              "      <th>25</th>\n",
              "      <td>0.002867</td>\n",
              "      <td>0.999964</td>\n",
              "      <td>0.072549</td>\n",
              "      <td>0.9806</td>\n",
              "    </tr>\n",
              "    <tr>\n",
              "      <th>26</th>\n",
              "      <td>0.002801</td>\n",
              "      <td>0.999964</td>\n",
              "      <td>0.071248</td>\n",
              "      <td>0.9806</td>\n",
              "    </tr>\n",
              "    <tr>\n",
              "      <th>27</th>\n",
              "      <td>0.002737</td>\n",
              "      <td>0.999982</td>\n",
              "      <td>0.072251</td>\n",
              "      <td>0.9804</td>\n",
              "    </tr>\n",
              "    <tr>\n",
              "      <th>28</th>\n",
              "      <td>0.002663</td>\n",
              "      <td>0.999982</td>\n",
              "      <td>0.072827</td>\n",
              "      <td>0.9798</td>\n",
              "    </tr>\n",
              "    <tr>\n",
              "      <th>29</th>\n",
              "      <td>0.002606</td>\n",
              "      <td>0.999982</td>\n",
              "      <td>0.071905</td>\n",
              "      <td>0.9814</td>\n",
              "    </tr>\n",
              "    <tr>\n",
              "      <th>30</th>\n",
              "      <td>0.002538</td>\n",
              "      <td>0.999964</td>\n",
              "      <td>0.072616</td>\n",
              "      <td>0.9806</td>\n",
              "    </tr>\n",
              "    <tr>\n",
              "      <th>31</th>\n",
              "      <td>0.002490</td>\n",
              "      <td>1.000000</td>\n",
              "      <td>0.072165</td>\n",
              "      <td>0.9814</td>\n",
              "    </tr>\n",
              "    <tr>\n",
              "      <th>32</th>\n",
              "      <td>0.002439</td>\n",
              "      <td>0.999982</td>\n",
              "      <td>0.072726</td>\n",
              "      <td>0.9810</td>\n",
              "    </tr>\n",
              "    <tr>\n",
              "      <th>33</th>\n",
              "      <td>0.002363</td>\n",
              "      <td>0.999982</td>\n",
              "      <td>0.072823</td>\n",
              "      <td>0.9808</td>\n",
              "    </tr>\n",
              "    <tr>\n",
              "      <th>34</th>\n",
              "      <td>0.002313</td>\n",
              "      <td>1.000000</td>\n",
              "      <td>0.072759</td>\n",
              "      <td>0.9806</td>\n",
              "    </tr>\n",
              "    <tr>\n",
              "      <th>35</th>\n",
              "      <td>0.002269</td>\n",
              "      <td>1.000000</td>\n",
              "      <td>0.073014</td>\n",
              "      <td>0.9812</td>\n",
              "    </tr>\n",
              "    <tr>\n",
              "      <th>36</th>\n",
              "      <td>0.002228</td>\n",
              "      <td>1.000000</td>\n",
              "      <td>0.073582</td>\n",
              "      <td>0.9810</td>\n",
              "    </tr>\n",
              "    <tr>\n",
              "      <th>37</th>\n",
              "      <td>0.002176</td>\n",
              "      <td>1.000000</td>\n",
              "      <td>0.073549</td>\n",
              "      <td>0.9810</td>\n",
              "    </tr>\n",
              "    <tr>\n",
              "      <th>38</th>\n",
              "      <td>0.002131</td>\n",
              "      <td>1.000000</td>\n",
              "      <td>0.073409</td>\n",
              "      <td>0.9814</td>\n",
              "    </tr>\n",
              "    <tr>\n",
              "      <th>39</th>\n",
              "      <td>0.002090</td>\n",
              "      <td>1.000000</td>\n",
              "      <td>0.073217</td>\n",
              "      <td>0.9810</td>\n",
              "    </tr>\n",
              "    <tr>\n",
              "      <th>40</th>\n",
              "      <td>0.002042</td>\n",
              "      <td>1.000000</td>\n",
              "      <td>0.073212</td>\n",
              "      <td>0.9808</td>\n",
              "    </tr>\n",
              "    <tr>\n",
              "      <th>41</th>\n",
              "      <td>0.002006</td>\n",
              "      <td>1.000000</td>\n",
              "      <td>0.073970</td>\n",
              "      <td>0.9814</td>\n",
              "    </tr>\n",
              "    <tr>\n",
              "      <th>42</th>\n",
              "      <td>0.001972</td>\n",
              "      <td>1.000000</td>\n",
              "      <td>0.073742</td>\n",
              "      <td>0.9812</td>\n",
              "    </tr>\n",
              "    <tr>\n",
              "      <th>43</th>\n",
              "      <td>0.001934</td>\n",
              "      <td>1.000000</td>\n",
              "      <td>0.073216</td>\n",
              "      <td>0.9806</td>\n",
              "    </tr>\n",
              "    <tr>\n",
              "      <th>44</th>\n",
              "      <td>0.001900</td>\n",
              "      <td>1.000000</td>\n",
              "      <td>0.073591</td>\n",
              "      <td>0.9808</td>\n",
              "    </tr>\n",
              "    <tr>\n",
              "      <th>45</th>\n",
              "      <td>0.001865</td>\n",
              "      <td>1.000000</td>\n",
              "      <td>0.074051</td>\n",
              "      <td>0.9808</td>\n",
              "    </tr>\n",
              "    <tr>\n",
              "      <th>46</th>\n",
              "      <td>0.001827</td>\n",
              "      <td>1.000000</td>\n",
              "      <td>0.073854</td>\n",
              "      <td>0.9810</td>\n",
              "    </tr>\n",
              "    <tr>\n",
              "      <th>47</th>\n",
              "      <td>0.001793</td>\n",
              "      <td>1.000000</td>\n",
              "      <td>0.073801</td>\n",
              "      <td>0.9812</td>\n",
              "    </tr>\n",
              "    <tr>\n",
              "      <th>48</th>\n",
              "      <td>0.001756</td>\n",
              "      <td>1.000000</td>\n",
              "      <td>0.073974</td>\n",
              "      <td>0.9812</td>\n",
              "    </tr>\n",
              "    <tr>\n",
              "      <th>49</th>\n",
              "      <td>0.001735</td>\n",
              "      <td>1.000000</td>\n",
              "      <td>0.074369</td>\n",
              "      <td>0.9808</td>\n",
              "    </tr>\n",
              "  </tbody>\n",
              "</table>\n",
              "</div>"
            ],
            "text/plain": [
              "        loss  accuracy  val_loss  val_accuracy\n",
              "0   0.006406  0.999673  0.069276        0.9794\n",
              "1   0.006137  0.999727  0.068875        0.9804\n",
              "2   0.005918  0.999709  0.069931        0.9806\n",
              "3   0.005730  0.999709  0.069250        0.9808\n",
              "4   0.005488  0.999836  0.069771        0.9808\n",
              "5   0.005309  0.999800  0.069387        0.9808\n",
              "6   0.005115  0.999800  0.069663        0.9808\n",
              "7   0.004952  0.999800  0.069857        0.9808\n",
              "8   0.004757  0.999836  0.069756        0.9790\n",
              "9   0.004612  0.999873  0.069709        0.9804\n",
              "10  0.004469  0.999909  0.070776        0.9794\n",
              "11  0.004322  0.999927  0.069845        0.9804\n",
              "12  0.004177  0.999909  0.070414        0.9804\n",
              "13  0.004056  0.999945  0.070285        0.9804\n",
              "14  0.003914  0.999909  0.070546        0.9802\n",
              "15  0.003809  0.999927  0.070868        0.9802\n",
              "16  0.003692  0.999964  0.069979        0.9812\n",
              "17  0.003570  0.999945  0.070814        0.9806\n",
              "18  0.003466  0.999945  0.070396        0.9812\n",
              "19  0.003387  0.999964  0.071158        0.9800\n",
              "20  0.003287  0.999964  0.071213        0.9810\n",
              "21  0.003180  0.999982  0.071214        0.9810\n",
              "22  0.003111  0.999964  0.070978        0.9812\n",
              "23  0.003024  0.999964  0.071422        0.9804\n",
              "24  0.002938  0.999964  0.071981        0.9806\n",
              "25  0.002867  0.999964  0.072549        0.9806\n",
              "26  0.002801  0.999964  0.071248        0.9806\n",
              "27  0.002737  0.999982  0.072251        0.9804\n",
              "28  0.002663  0.999982  0.072827        0.9798\n",
              "29  0.002606  0.999982  0.071905        0.9814\n",
              "30  0.002538  0.999964  0.072616        0.9806\n",
              "31  0.002490  1.000000  0.072165        0.9814\n",
              "32  0.002439  0.999982  0.072726        0.9810\n",
              "33  0.002363  0.999982  0.072823        0.9808\n",
              "34  0.002313  1.000000  0.072759        0.9806\n",
              "35  0.002269  1.000000  0.073014        0.9812\n",
              "36  0.002228  1.000000  0.073582        0.9810\n",
              "37  0.002176  1.000000  0.073549        0.9810\n",
              "38  0.002131  1.000000  0.073409        0.9814\n",
              "39  0.002090  1.000000  0.073217        0.9810\n",
              "40  0.002042  1.000000  0.073212        0.9808\n",
              "41  0.002006  1.000000  0.073970        0.9814\n",
              "42  0.001972  1.000000  0.073742        0.9812\n",
              "43  0.001934  1.000000  0.073216        0.9806\n",
              "44  0.001900  1.000000  0.073591        0.9808\n",
              "45  0.001865  1.000000  0.074051        0.9808\n",
              "46  0.001827  1.000000  0.073854        0.9810\n",
              "47  0.001793  1.000000  0.073801        0.9812\n",
              "48  0.001756  1.000000  0.073974        0.9812\n",
              "49  0.001735  1.000000  0.074369        0.9808"
            ]
          },
          "metadata": {
            "tags": []
          },
          "execution_count": 67
        }
      ]
    },
    {
      "cell_type": "code",
      "metadata": {
        "id": "vh2DHQWZTVp8",
        "outputId": "9a8181e8-7743-4372-9a6d-c2562e17791e",
        "colab": {
          "base_uri": "https://localhost:8080/",
          "height": 324
        }
      },
      "source": [
        "pd.DataFrame(history.history).plot(figsize=(5,5))\n",
        "plt.grid(True)\n",
        "plt.gca().set_ylim(0,1)\n",
        "plt.show()"
      ],
      "execution_count": 71,
      "outputs": [
        {
          "output_type": "display_data",
          "data": {
            "image/png": "[encoded data removed]",
            "text/plain": [
              "<Figure size 360x360 with 1 Axes>"
            ]
          },
          "metadata": {
            "tags": [],
            "needs_background": "light"
          }
        }
      ]
    },
    {
      "cell_type": "code",
      "metadata": {
        "id": "AWRHnvxBVDUG",
        "outputId": "7d4166fe-8a4a-45d8-fbdb-c2eb7a7ee7be",
        "colab": {
          "base_uri": "https://localhost:8080/"
        }
      },
      "source": [
        "model_clf.evaluate(X_valid, y_valid)"
      ],
      "execution_count": 73,
      "outputs": [
        {
          "output_type": "stream",
          "text": [
            "157/157 [==============================] - 0s 1ms/step - loss: 0.0744 - accuracy: 0.9808\n"
          ],
          "name": "stdout"
        },
        {
          "output_type": "execute_result",
          "data": {
            "text/plain": [
              "[0.07436888664960861, 0.9807999730110168]"
            ]
          },
          "metadata": {
            "tags": []
          },
          "execution_count": 73
        }
      ]
    },
    {
      "cell_type": "code",
      "metadata": {
        "colab": {
          "base_uri": "https://localhost:8080/"
        },
        "id": "HZG_KbwAGkJx",
        "outputId": "ff5e2dcb-3fd2-4152-9b32-77a8c4bb684f"
      },
      "source": [
        "X_new  = X_valid[:3]\n",
        "y_proba = model_clf.predict(X_new)\n",
        "y_proba.round(2)"
      ],
      "execution_count": 76,
      "outputs": [
        {
          "output_type": "execute_result",
          "data": {
            "text/plain": [
              "array([[0.  , 0.  , 0.  , 0.01, 0.  , 0.99, 0.  , 0.  , 0.  , 0.  ],\n",
              "       [1.  , 0.  , 0.  , 0.  , 0.  , 0.  , 0.  , 0.  , 0.  , 0.  ],\n",
              "       [0.  , 0.  , 0.  , 0.  , 1.  , 0.  , 0.  , 0.  , 0.  , 0.  ]],\n",
              "      dtype=float32)"
            ]
          },
          "metadata": {
            "tags": []
          },
          "execution_count": 76
        }
      ]
    },
    {
      "cell_type": "code",
      "metadata": {
        "colab": {
          "base_uri": "https://localhost:8080/"
        },
        "id": "tMm5gciniflt",
        "outputId": "16976557-666f-4d79-bb8c-d6c47094cc49"
      },
      "source": [
        "y_pred = np.argmax(model_clf.predict(X_new),axis=1)\n",
        "y_pred"
      ],
      "execution_count": 78,
      "outputs": [
        {
          "output_type": "execute_result",
          "data": {
            "text/plain": [
              "array([5, 0, 4])"
            ]
          },
          "metadata": {
            "tags": []
          },
          "execution_count": 78
        }
      ]
    },
    {
      "cell_type": "code",
      "metadata": {
        "id": "N8ubrzVjeTs4"
      },
      "source": [
        "y_test_new = y_test[:3]"
      ],
      "execution_count": 79,
      "outputs": []
    },
    {
      "cell_type": "code",
      "metadata": {
        "id": "pVYJVKe5ebVI",
        "outputId": "ee41cea3-9df1-4ec5-92e2-470915d8c957",
        "colab": {
          "base_uri": "https://localhost:8080/",
          "height": 758
        }
      },
      "source": [
        "for data,pred,actual in zip(X_new,y_pred,y_test_new):\n",
        "  plt.imshow(data,cmap=\"binary\")\n",
        "  plt.title(f\"Predicted: {pred},Actual {actual}\")\n",
        "  plt.axis(\"off\")\n",
        "  plt.show()"
      ],
      "execution_count": 80,
      "outputs": [
        {
          "output_type": "display_data",
          "data": {
            "image/png": "[encoded data removed]",
            "text/plain": [
              "<Figure size 432x288 with 1 Axes>"
            ]
          },
          "metadata": {
            "tags": [],
            "needs_background": "light"
          }
        },
        {
          "output_type": "display_data",
          "data": {
            "image/png": "[encoded data removed]",
            "text/plain": [
              "<Figure size 432x288 with 1 Axes>"
            ]
          },
          "metadata": {
            "tags": [],
            "needs_background": "light"
          }
        },
        {
          "output_type": "display_data",
          "data": {
            "image/png": "[encoded data removed]",
            "text/plain": [
              "<Figure size 432x288 with 1 Axes>"
            ]
          },
          "metadata": {
            "tags": [],
            "needs_background": "light"
          }
        }
      ]
    },
    {
      "cell_type": "code",
      "metadata": {
        "id": "MNWxdrcVfGSx"
      },
      "source": [
        ""
      ],
      "execution_count": null,
      "outputs": []
    }
  ]
}